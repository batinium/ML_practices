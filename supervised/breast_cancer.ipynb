{
 "cells": [
  {
   "cell_type": "code",
   "execution_count": 2,
   "id": "70903f47",
   "metadata": {},
   "outputs": [
    {
     "name": "stdout",
     "output_type": "stream",
     "text": [
      "Path to dataset files: /Users/batinorene/.cache/kagglehub/datasets/yasserh/breast-cancer-dataset/versions/1\n"
     ]
    }
   ],
   "source": [
    "import kagglehub\n",
    "import shutil\n",
    "import os\n",
    "\n",
    "# Download latest version\n",
    "path = kagglehub.dataset_download(\"yasserh/breast-cancer-dataset\")\n",
    "\n",
    "shutil.move(path,os.getcwd())\n",
    "\n",
    "print(\"Path to dataset files:\", path)"
   ]
  },
  {
   "cell_type": "code",
   "execution_count": 66,
   "id": "9e97b95c",
   "metadata": {},
   "outputs": [],
   "source": [
    "from sklearn.linear_model import LogisticRegression\n",
    "from sklearn.model_selection import train_test_split\n",
    "import pandas as pd\n",
    "import numpy as np\n",
    "import plotly.express as px\n",
    "import matplotlib.pyplot as plt\n",
    "import seaborn as sns\n",
    "\n",
    "\n",
    "from sklearn.preprocessing import StandardScaler\n",
    "\n",
    "from sklearn.linear_model import LogisticRegression\n",
    "from sklearn.neighbors import KNeighborsClassifier\n",
    "from sklearn.ensemble import RandomForestClassifier\n",
    "from sklearn.tree import DecisionTreeClassifier\n",
    "from sklearn.naive_bayes import GaussianNB\n",
    "from sklearn.model_selection import train_test_split\n",
    "from sklearn.metrics import f1_score, precision_score, accuracy_score, recall_score, balanced_accuracy_score, confusion_matrix, roc_curve, roc_auc_score\n"
   ]
  },
  {
   "cell_type": "code",
   "execution_count": 2,
   "id": "81b34af6",
   "metadata": {},
   "outputs": [
    {
     "name": "stdout",
     "output_type": "stream",
     "text": [
      "         id diagnosis  radius_mean  texture_mean  perimeter_mean  area_mean  \\\n",
      "0    842302         M        17.99         10.38          122.80     1001.0   \n",
      "1    842517         M        20.57         17.77          132.90     1326.0   \n",
      "2  84300903         M        19.69         21.25          130.00     1203.0   \n",
      "3  84348301         M        11.42         20.38           77.58      386.1   \n",
      "4  84358402         M        20.29         14.34          135.10     1297.0   \n",
      "\n",
      "   smoothness_mean  compactness_mean  concavity_mean  concave points_mean  \\\n",
      "0          0.11840           0.27760          0.3001              0.14710   \n",
      "1          0.08474           0.07864          0.0869              0.07017   \n",
      "2          0.10960           0.15990          0.1974              0.12790   \n",
      "3          0.14250           0.28390          0.2414              0.10520   \n",
      "4          0.10030           0.13280          0.1980              0.10430   \n",
      "\n",
      "   ...  radius_worst  texture_worst  perimeter_worst  area_worst  \\\n",
      "0  ...         25.38          17.33           184.60      2019.0   \n",
      "1  ...         24.99          23.41           158.80      1956.0   \n",
      "2  ...         23.57          25.53           152.50      1709.0   \n",
      "3  ...         14.91          26.50            98.87       567.7   \n",
      "4  ...         22.54          16.67           152.20      1575.0   \n",
      "\n",
      "   smoothness_worst  compactness_worst  concavity_worst  concave points_worst  \\\n",
      "0            0.1622             0.6656           0.7119                0.2654   \n",
      "1            0.1238             0.1866           0.2416                0.1860   \n",
      "2            0.1444             0.4245           0.4504                0.2430   \n",
      "3            0.2098             0.8663           0.6869                0.2575   \n",
      "4            0.1374             0.2050           0.4000                0.1625   \n",
      "\n",
      "   symmetry_worst  fractal_dimension_worst  \n",
      "0          0.4601                  0.11890  \n",
      "1          0.2750                  0.08902  \n",
      "2          0.3613                  0.08758  \n",
      "3          0.6638                  0.17300  \n",
      "4          0.2364                  0.07678  \n",
      "\n",
      "[5 rows x 32 columns]\n"
     ]
    }
   ],
   "source": [
    "df = pd.read_csv('breast_cancer_dataset/breast-cancer.csv')\n",
    "print(df.head())"
   ]
  },
  {
   "cell_type": "code",
   "execution_count": 4,
   "id": "d9174a1e",
   "metadata": {},
   "outputs": [
    {
     "data": {
      "text/html": [
       "<div>\n",
       "<style scoped>\n",
       "    .dataframe tbody tr th:only-of-type {\n",
       "        vertical-align: middle;\n",
       "    }\n",
       "\n",
       "    .dataframe tbody tr th {\n",
       "        vertical-align: top;\n",
       "    }\n",
       "\n",
       "    .dataframe thead th {\n",
       "        text-align: right;\n",
       "    }\n",
       "</style>\n",
       "<table border=\"1\" class=\"dataframe\">\n",
       "  <thead>\n",
       "    <tr style=\"text-align: right;\">\n",
       "      <th></th>\n",
       "      <th>id</th>\n",
       "      <th>radius_mean</th>\n",
       "      <th>texture_mean</th>\n",
       "      <th>perimeter_mean</th>\n",
       "      <th>area_mean</th>\n",
       "      <th>smoothness_mean</th>\n",
       "      <th>compactness_mean</th>\n",
       "      <th>concavity_mean</th>\n",
       "      <th>concave points_mean</th>\n",
       "      <th>symmetry_mean</th>\n",
       "      <th>...</th>\n",
       "      <th>radius_worst</th>\n",
       "      <th>texture_worst</th>\n",
       "      <th>perimeter_worst</th>\n",
       "      <th>area_worst</th>\n",
       "      <th>smoothness_worst</th>\n",
       "      <th>compactness_worst</th>\n",
       "      <th>concavity_worst</th>\n",
       "      <th>concave points_worst</th>\n",
       "      <th>symmetry_worst</th>\n",
       "      <th>fractal_dimension_worst</th>\n",
       "    </tr>\n",
       "  </thead>\n",
       "  <tbody>\n",
       "    <tr>\n",
       "      <th>count</th>\n",
       "      <td>5.690000e+02</td>\n",
       "      <td>569.000000</td>\n",
       "      <td>569.000000</td>\n",
       "      <td>569.000000</td>\n",
       "      <td>569.000000</td>\n",
       "      <td>569.000000</td>\n",
       "      <td>569.000000</td>\n",
       "      <td>569.000000</td>\n",
       "      <td>569.000000</td>\n",
       "      <td>569.000000</td>\n",
       "      <td>...</td>\n",
       "      <td>569.000000</td>\n",
       "      <td>569.000000</td>\n",
       "      <td>569.000000</td>\n",
       "      <td>569.000000</td>\n",
       "      <td>569.000000</td>\n",
       "      <td>569.000000</td>\n",
       "      <td>569.000000</td>\n",
       "      <td>569.000000</td>\n",
       "      <td>569.000000</td>\n",
       "      <td>569.000000</td>\n",
       "    </tr>\n",
       "    <tr>\n",
       "      <th>mean</th>\n",
       "      <td>3.037183e+07</td>\n",
       "      <td>14.127292</td>\n",
       "      <td>19.289649</td>\n",
       "      <td>91.969033</td>\n",
       "      <td>654.889104</td>\n",
       "      <td>0.096360</td>\n",
       "      <td>0.104341</td>\n",
       "      <td>0.088799</td>\n",
       "      <td>0.048919</td>\n",
       "      <td>0.181162</td>\n",
       "      <td>...</td>\n",
       "      <td>16.269190</td>\n",
       "      <td>25.677223</td>\n",
       "      <td>107.261213</td>\n",
       "      <td>880.583128</td>\n",
       "      <td>0.132369</td>\n",
       "      <td>0.254265</td>\n",
       "      <td>0.272188</td>\n",
       "      <td>0.114606</td>\n",
       "      <td>0.290076</td>\n",
       "      <td>0.083946</td>\n",
       "    </tr>\n",
       "    <tr>\n",
       "      <th>std</th>\n",
       "      <td>1.250206e+08</td>\n",
       "      <td>3.524049</td>\n",
       "      <td>4.301036</td>\n",
       "      <td>24.298981</td>\n",
       "      <td>351.914129</td>\n",
       "      <td>0.014064</td>\n",
       "      <td>0.052813</td>\n",
       "      <td>0.079720</td>\n",
       "      <td>0.038803</td>\n",
       "      <td>0.027414</td>\n",
       "      <td>...</td>\n",
       "      <td>4.833242</td>\n",
       "      <td>6.146258</td>\n",
       "      <td>33.602542</td>\n",
       "      <td>569.356993</td>\n",
       "      <td>0.022832</td>\n",
       "      <td>0.157336</td>\n",
       "      <td>0.208624</td>\n",
       "      <td>0.065732</td>\n",
       "      <td>0.061867</td>\n",
       "      <td>0.018061</td>\n",
       "    </tr>\n",
       "    <tr>\n",
       "      <th>min</th>\n",
       "      <td>8.670000e+03</td>\n",
       "      <td>6.981000</td>\n",
       "      <td>9.710000</td>\n",
       "      <td>43.790000</td>\n",
       "      <td>143.500000</td>\n",
       "      <td>0.052630</td>\n",
       "      <td>0.019380</td>\n",
       "      <td>0.000000</td>\n",
       "      <td>0.000000</td>\n",
       "      <td>0.106000</td>\n",
       "      <td>...</td>\n",
       "      <td>7.930000</td>\n",
       "      <td>12.020000</td>\n",
       "      <td>50.410000</td>\n",
       "      <td>185.200000</td>\n",
       "      <td>0.071170</td>\n",
       "      <td>0.027290</td>\n",
       "      <td>0.000000</td>\n",
       "      <td>0.000000</td>\n",
       "      <td>0.156500</td>\n",
       "      <td>0.055040</td>\n",
       "    </tr>\n",
       "    <tr>\n",
       "      <th>25%</th>\n",
       "      <td>8.692180e+05</td>\n",
       "      <td>11.700000</td>\n",
       "      <td>16.170000</td>\n",
       "      <td>75.170000</td>\n",
       "      <td>420.300000</td>\n",
       "      <td>0.086370</td>\n",
       "      <td>0.064920</td>\n",
       "      <td>0.029560</td>\n",
       "      <td>0.020310</td>\n",
       "      <td>0.161900</td>\n",
       "      <td>...</td>\n",
       "      <td>13.010000</td>\n",
       "      <td>21.080000</td>\n",
       "      <td>84.110000</td>\n",
       "      <td>515.300000</td>\n",
       "      <td>0.116600</td>\n",
       "      <td>0.147200</td>\n",
       "      <td>0.114500</td>\n",
       "      <td>0.064930</td>\n",
       "      <td>0.250400</td>\n",
       "      <td>0.071460</td>\n",
       "    </tr>\n",
       "    <tr>\n",
       "      <th>50%</th>\n",
       "      <td>9.060240e+05</td>\n",
       "      <td>13.370000</td>\n",
       "      <td>18.840000</td>\n",
       "      <td>86.240000</td>\n",
       "      <td>551.100000</td>\n",
       "      <td>0.095870</td>\n",
       "      <td>0.092630</td>\n",
       "      <td>0.061540</td>\n",
       "      <td>0.033500</td>\n",
       "      <td>0.179200</td>\n",
       "      <td>...</td>\n",
       "      <td>14.970000</td>\n",
       "      <td>25.410000</td>\n",
       "      <td>97.660000</td>\n",
       "      <td>686.500000</td>\n",
       "      <td>0.131300</td>\n",
       "      <td>0.211900</td>\n",
       "      <td>0.226700</td>\n",
       "      <td>0.099930</td>\n",
       "      <td>0.282200</td>\n",
       "      <td>0.080040</td>\n",
       "    </tr>\n",
       "    <tr>\n",
       "      <th>75%</th>\n",
       "      <td>8.813129e+06</td>\n",
       "      <td>15.780000</td>\n",
       "      <td>21.800000</td>\n",
       "      <td>104.100000</td>\n",
       "      <td>782.700000</td>\n",
       "      <td>0.105300</td>\n",
       "      <td>0.130400</td>\n",
       "      <td>0.130700</td>\n",
       "      <td>0.074000</td>\n",
       "      <td>0.195700</td>\n",
       "      <td>...</td>\n",
       "      <td>18.790000</td>\n",
       "      <td>29.720000</td>\n",
       "      <td>125.400000</td>\n",
       "      <td>1084.000000</td>\n",
       "      <td>0.146000</td>\n",
       "      <td>0.339100</td>\n",
       "      <td>0.382900</td>\n",
       "      <td>0.161400</td>\n",
       "      <td>0.317900</td>\n",
       "      <td>0.092080</td>\n",
       "    </tr>\n",
       "    <tr>\n",
       "      <th>max</th>\n",
       "      <td>9.113205e+08</td>\n",
       "      <td>28.110000</td>\n",
       "      <td>39.280000</td>\n",
       "      <td>188.500000</td>\n",
       "      <td>2501.000000</td>\n",
       "      <td>0.163400</td>\n",
       "      <td>0.345400</td>\n",
       "      <td>0.426800</td>\n",
       "      <td>0.201200</td>\n",
       "      <td>0.304000</td>\n",
       "      <td>...</td>\n",
       "      <td>36.040000</td>\n",
       "      <td>49.540000</td>\n",
       "      <td>251.200000</td>\n",
       "      <td>4254.000000</td>\n",
       "      <td>0.222600</td>\n",
       "      <td>1.058000</td>\n",
       "      <td>1.252000</td>\n",
       "      <td>0.291000</td>\n",
       "      <td>0.663800</td>\n",
       "      <td>0.207500</td>\n",
       "    </tr>\n",
       "  </tbody>\n",
       "</table>\n",
       "<p>8 rows × 31 columns</p>\n",
       "</div>"
      ],
      "text/plain": [
       "                 id  radius_mean  texture_mean  perimeter_mean    area_mean  \\\n",
       "count  5.690000e+02   569.000000    569.000000      569.000000   569.000000   \n",
       "mean   3.037183e+07    14.127292     19.289649       91.969033   654.889104   \n",
       "std    1.250206e+08     3.524049      4.301036       24.298981   351.914129   \n",
       "min    8.670000e+03     6.981000      9.710000       43.790000   143.500000   \n",
       "25%    8.692180e+05    11.700000     16.170000       75.170000   420.300000   \n",
       "50%    9.060240e+05    13.370000     18.840000       86.240000   551.100000   \n",
       "75%    8.813129e+06    15.780000     21.800000      104.100000   782.700000   \n",
       "max    9.113205e+08    28.110000     39.280000      188.500000  2501.000000   \n",
       "\n",
       "       smoothness_mean  compactness_mean  concavity_mean  concave points_mean  \\\n",
       "count       569.000000        569.000000      569.000000           569.000000   \n",
       "mean          0.096360          0.104341        0.088799             0.048919   \n",
       "std           0.014064          0.052813        0.079720             0.038803   \n",
       "min           0.052630          0.019380        0.000000             0.000000   \n",
       "25%           0.086370          0.064920        0.029560             0.020310   \n",
       "50%           0.095870          0.092630        0.061540             0.033500   \n",
       "75%           0.105300          0.130400        0.130700             0.074000   \n",
       "max           0.163400          0.345400        0.426800             0.201200   \n",
       "\n",
       "       symmetry_mean  ...  radius_worst  texture_worst  perimeter_worst  \\\n",
       "count     569.000000  ...    569.000000     569.000000       569.000000   \n",
       "mean        0.181162  ...     16.269190      25.677223       107.261213   \n",
       "std         0.027414  ...      4.833242       6.146258        33.602542   \n",
       "min         0.106000  ...      7.930000      12.020000        50.410000   \n",
       "25%         0.161900  ...     13.010000      21.080000        84.110000   \n",
       "50%         0.179200  ...     14.970000      25.410000        97.660000   \n",
       "75%         0.195700  ...     18.790000      29.720000       125.400000   \n",
       "max         0.304000  ...     36.040000      49.540000       251.200000   \n",
       "\n",
       "        area_worst  smoothness_worst  compactness_worst  concavity_worst  \\\n",
       "count   569.000000        569.000000         569.000000       569.000000   \n",
       "mean    880.583128          0.132369           0.254265         0.272188   \n",
       "std     569.356993          0.022832           0.157336         0.208624   \n",
       "min     185.200000          0.071170           0.027290         0.000000   \n",
       "25%     515.300000          0.116600           0.147200         0.114500   \n",
       "50%     686.500000          0.131300           0.211900         0.226700   \n",
       "75%    1084.000000          0.146000           0.339100         0.382900   \n",
       "max    4254.000000          0.222600           1.058000         1.252000   \n",
       "\n",
       "       concave points_worst  symmetry_worst  fractal_dimension_worst  \n",
       "count            569.000000      569.000000               569.000000  \n",
       "mean               0.114606        0.290076                 0.083946  \n",
       "std                0.065732        0.061867                 0.018061  \n",
       "min                0.000000        0.156500                 0.055040  \n",
       "25%                0.064930        0.250400                 0.071460  \n",
       "50%                0.099930        0.282200                 0.080040  \n",
       "75%                0.161400        0.317900                 0.092080  \n",
       "max                0.291000        0.663800                 0.207500  \n",
       "\n",
       "[8 rows x 31 columns]"
      ]
     },
     "execution_count": 4,
     "metadata": {},
     "output_type": "execute_result"
    }
   ],
   "source": [
    "df.describe()\n"
   ]
  },
  {
   "cell_type": "code",
   "execution_count": 5,
   "id": "575282ab",
   "metadata": {},
   "outputs": [
    {
     "data": {
      "text/plain": [
       "Index(['id', 'diagnosis', 'radius_mean', 'texture_mean', 'perimeter_mean',\n",
       "       'area_mean', 'smoothness_mean', 'compactness_mean', 'concavity_mean',\n",
       "       'concave points_mean', 'symmetry_mean', 'fractal_dimension_mean',\n",
       "       'radius_se', 'texture_se', 'perimeter_se', 'area_se', 'smoothness_se',\n",
       "       'compactness_se', 'concavity_se', 'concave points_se', 'symmetry_se',\n",
       "       'fractal_dimension_se', 'radius_worst', 'texture_worst',\n",
       "       'perimeter_worst', 'area_worst', 'smoothness_worst',\n",
       "       'compactness_worst', 'concavity_worst', 'concave points_worst',\n",
       "       'symmetry_worst', 'fractal_dimension_worst'],\n",
       "      dtype='object')"
      ]
     },
     "execution_count": 5,
     "metadata": {},
     "output_type": "execute_result"
    }
   ],
   "source": [
    "df.columns"
   ]
  },
  {
   "cell_type": "code",
   "execution_count": 16,
   "id": "e0cbb396",
   "metadata": {},
   "outputs": [
    {
     "data": {
      "text/plain": [
       "id                           int64\n",
       "diagnosis                   object\n",
       "radius_mean                float64\n",
       "texture_mean               float64\n",
       "perimeter_mean             float64\n",
       "area_mean                  float64\n",
       "smoothness_mean            float64\n",
       "compactness_mean           float64\n",
       "concavity_mean             float64\n",
       "concave points_mean        float64\n",
       "symmetry_mean              float64\n",
       "fractal_dimension_mean     float64\n",
       "radius_se                  float64\n",
       "texture_se                 float64\n",
       "perimeter_se               float64\n",
       "area_se                    float64\n",
       "smoothness_se              float64\n",
       "compactness_se             float64\n",
       "concavity_se               float64\n",
       "concave points_se          float64\n",
       "symmetry_se                float64\n",
       "fractal_dimension_se       float64\n",
       "radius_worst               float64\n",
       "texture_worst              float64\n",
       "perimeter_worst            float64\n",
       "area_worst                 float64\n",
       "smoothness_worst           float64\n",
       "compactness_worst          float64\n",
       "concavity_worst            float64\n",
       "concave points_worst       float64\n",
       "symmetry_worst             float64\n",
       "fractal_dimension_worst    float64\n",
       "dtype: object"
      ]
     },
     "execution_count": 16,
     "metadata": {},
     "output_type": "execute_result"
    }
   ],
   "source": [
    "df.dtypes"
   ]
  },
  {
   "cell_type": "code",
   "execution_count": 5,
   "id": "b1e7bbf2",
   "metadata": {},
   "outputs": [
    {
     "data": {
      "application/vnd.plotly.v1+json": {
       "config": {
        "plotlyServerURL": "https://plot.ly"
       },
       "data": [
        {
         "bingroup": "x",
         "hovertemplate": "diagnosis=%{x}<br>count=%{y}<extra></extra>",
         "legendgroup": "M",
         "marker": {
          "color": "#A865C9",
          "pattern": {
           "shape": ""
          }
         },
         "name": "M",
         "orientation": "v",
         "showlegend": true,
         "type": "histogram",
         "x": [
          "M",
          "M",
          "M",
          "M",
          "M",
          "M",
          "M",
          "M",
          "M",
          "M",
          "M",
          "M",
          "M",
          "M",
          "M",
          "M",
          "M",
          "M",
          "M",
          "M",
          "M",
          "M",
          "M",
          "M",
          "M",
          "M",
          "M",
          "M",
          "M",
          "M",
          "M",
          "M",
          "M",
          "M",
          "M",
          "M",
          "M",
          "M",
          "M",
          "M",
          "M",
          "M",
          "M",
          "M",
          "M",
          "M",
          "M",
          "M",
          "M",
          "M",
          "M",
          "M",
          "M",
          "M",
          "M",
          "M",
          "M",
          "M",
          "M",
          "M",
          "M",
          "M",
          "M",
          "M",
          "M",
          "M",
          "M",
          "M",
          "M",
          "M",
          "M",
          "M",
          "M",
          "M",
          "M",
          "M",
          "M",
          "M",
          "M",
          "M",
          "M",
          "M",
          "M",
          "M",
          "M",
          "M",
          "M",
          "M",
          "M",
          "M",
          "M",
          "M",
          "M",
          "M",
          "M",
          "M",
          "M",
          "M",
          "M",
          "M",
          "M",
          "M",
          "M",
          "M",
          "M",
          "M",
          "M",
          "M",
          "M",
          "M",
          "M",
          "M",
          "M",
          "M",
          "M",
          "M",
          "M",
          "M",
          "M",
          "M",
          "M",
          "M",
          "M",
          "M",
          "M",
          "M",
          "M",
          "M",
          "M",
          "M",
          "M",
          "M",
          "M",
          "M",
          "M",
          "M",
          "M",
          "M",
          "M",
          "M",
          "M",
          "M",
          "M",
          "M",
          "M",
          "M",
          "M",
          "M",
          "M",
          "M",
          "M",
          "M",
          "M",
          "M",
          "M",
          "M",
          "M",
          "M",
          "M",
          "M",
          "M",
          "M",
          "M",
          "M",
          "M",
          "M",
          "M",
          "M",
          "M",
          "M",
          "M",
          "M",
          "M",
          "M",
          "M",
          "M",
          "M",
          "M",
          "M",
          "M",
          "M",
          "M",
          "M",
          "M",
          "M",
          "M",
          "M",
          "M",
          "M",
          "M",
          "M",
          "M",
          "M",
          "M",
          "M",
          "M",
          "M",
          "M",
          "M",
          "M",
          "M",
          "M",
          "M",
          "M",
          "M",
          "M",
          "M",
          "M",
          "M",
          "M",
          "M",
          "M"
         ],
         "xaxis": "x",
         "yaxis": "y"
        },
        {
         "bingroup": "x",
         "hovertemplate": "diagnosis=%{x}<br>count=%{y}<extra></extra>",
         "legendgroup": "B",
         "marker": {
          "color": "#f6abb6",
          "pattern": {
           "shape": ""
          }
         },
         "name": "B",
         "orientation": "v",
         "showlegend": true,
         "type": "histogram",
         "x": [
          "B",
          "B",
          "B",
          "B",
          "B",
          "B",
          "B",
          "B",
          "B",
          "B",
          "B",
          "B",
          "B",
          "B",
          "B",
          "B",
          "B",
          "B",
          "B",
          "B",
          "B",
          "B",
          "B",
          "B",
          "B",
          "B",
          "B",
          "B",
          "B",
          "B",
          "B",
          "B",
          "B",
          "B",
          "B",
          "B",
          "B",
          "B",
          "B",
          "B",
          "B",
          "B",
          "B",
          "B",
          "B",
          "B",
          "B",
          "B",
          "B",
          "B",
          "B",
          "B",
          "B",
          "B",
          "B",
          "B",
          "B",
          "B",
          "B",
          "B",
          "B",
          "B",
          "B",
          "B",
          "B",
          "B",
          "B",
          "B",
          "B",
          "B",
          "B",
          "B",
          "B",
          "B",
          "B",
          "B",
          "B",
          "B",
          "B",
          "B",
          "B",
          "B",
          "B",
          "B",
          "B",
          "B",
          "B",
          "B",
          "B",
          "B",
          "B",
          "B",
          "B",
          "B",
          "B",
          "B",
          "B",
          "B",
          "B",
          "B",
          "B",
          "B",
          "B",
          "B",
          "B",
          "B",
          "B",
          "B",
          "B",
          "B",
          "B",
          "B",
          "B",
          "B",
          "B",
          "B",
          "B",
          "B",
          "B",
          "B",
          "B",
          "B",
          "B",
          "B",
          "B",
          "B",
          "B",
          "B",
          "B",
          "B",
          "B",
          "B",
          "B",
          "B",
          "B",
          "B",
          "B",
          "B",
          "B",
          "B",
          "B",
          "B",
          "B",
          "B",
          "B",
          "B",
          "B",
          "B",
          "B",
          "B",
          "B",
          "B",
          "B",
          "B",
          "B",
          "B",
          "B",
          "B",
          "B",
          "B",
          "B",
          "B",
          "B",
          "B",
          "B",
          "B",
          "B",
          "B",
          "B",
          "B",
          "B",
          "B",
          "B",
          "B",
          "B",
          "B",
          "B",
          "B",
          "B",
          "B",
          "B",
          "B",
          "B",
          "B",
          "B",
          "B",
          "B",
          "B",
          "B",
          "B",
          "B",
          "B",
          "B",
          "B",
          "B",
          "B",
          "B",
          "B",
          "B",
          "B",
          "B",
          "B",
          "B",
          "B",
          "B",
          "B",
          "B",
          "B",
          "B",
          "B",
          "B",
          "B",
          "B",
          "B",
          "B",
          "B",
          "B",
          "B",
          "B",
          "B",
          "B",
          "B",
          "B",
          "B",
          "B",
          "B",
          "B",
          "B",
          "B",
          "B",
          "B",
          "B",
          "B",
          "B",
          "B",
          "B",
          "B",
          "B",
          "B",
          "B",
          "B",
          "B",
          "B",
          "B",
          "B",
          "B",
          "B",
          "B",
          "B",
          "B",
          "B",
          "B",
          "B",
          "B",
          "B",
          "B",
          "B",
          "B",
          "B",
          "B",
          "B",
          "B",
          "B",
          "B",
          "B",
          "B",
          "B",
          "B",
          "B",
          "B",
          "B",
          "B",
          "B",
          "B",
          "B",
          "B",
          "B",
          "B",
          "B",
          "B",
          "B",
          "B",
          "B",
          "B",
          "B",
          "B",
          "B",
          "B",
          "B",
          "B",
          "B",
          "B",
          "B",
          "B",
          "B",
          "B",
          "B",
          "B",
          "B",
          "B",
          "B",
          "B",
          "B",
          "B",
          "B",
          "B",
          "B",
          "B",
          "B",
          "B",
          "B",
          "B",
          "B",
          "B",
          "B",
          "B",
          "B",
          "B",
          "B",
          "B",
          "B",
          "B",
          "B",
          "B",
          "B",
          "B",
          "B",
          "B",
          "B",
          "B",
          "B",
          "B",
          "B",
          "B",
          "B",
          "B",
          "B",
          "B",
          "B",
          "B",
          "B",
          "B",
          "B",
          "B",
          "B",
          "B",
          "B",
          "B",
          "B",
          "B",
          "B",
          "B",
          "B",
          "B",
          "B",
          "B",
          "B"
         ],
         "xaxis": "x",
         "yaxis": "y"
        }
       ],
       "layout": {
        "barmode": "relative",
        "legend": {
         "title": {
          "text": "diagnosis"
         },
         "tracegroupgap": 0
        },
        "margin": {
         "t": 60
        },
        "template": {
         "data": {
          "bar": [
           {
            "error_x": {
             "color": "#2a3f5f"
            },
            "error_y": {
             "color": "#2a3f5f"
            },
            "marker": {
             "line": {
              "color": "#E5ECF6",
              "width": 0.5
             },
             "pattern": {
              "fillmode": "overlay",
              "size": 10,
              "solidity": 0.2
             }
            },
            "type": "bar"
           }
          ],
          "barpolar": [
           {
            "marker": {
             "line": {
              "color": "#E5ECF6",
              "width": 0.5
             },
             "pattern": {
              "fillmode": "overlay",
              "size": 10,
              "solidity": 0.2
             }
            },
            "type": "barpolar"
           }
          ],
          "carpet": [
           {
            "aaxis": {
             "endlinecolor": "#2a3f5f",
             "gridcolor": "white",
             "linecolor": "white",
             "minorgridcolor": "white",
             "startlinecolor": "#2a3f5f"
            },
            "baxis": {
             "endlinecolor": "#2a3f5f",
             "gridcolor": "white",
             "linecolor": "white",
             "minorgridcolor": "white",
             "startlinecolor": "#2a3f5f"
            },
            "type": "carpet"
           }
          ],
          "choropleth": [
           {
            "colorbar": {
             "outlinewidth": 0,
             "ticks": ""
            },
            "type": "choropleth"
           }
          ],
          "contour": [
           {
            "colorbar": {
             "outlinewidth": 0,
             "ticks": ""
            },
            "colorscale": [
             [
              0,
              "#0d0887"
             ],
             [
              0.1111111111111111,
              "#46039f"
             ],
             [
              0.2222222222222222,
              "#7201a8"
             ],
             [
              0.3333333333333333,
              "#9c179e"
             ],
             [
              0.4444444444444444,
              "#bd3786"
             ],
             [
              0.5555555555555556,
              "#d8576b"
             ],
             [
              0.6666666666666666,
              "#ed7953"
             ],
             [
              0.7777777777777778,
              "#fb9f3a"
             ],
             [
              0.8888888888888888,
              "#fdca26"
             ],
             [
              1,
              "#f0f921"
             ]
            ],
            "type": "contour"
           }
          ],
          "contourcarpet": [
           {
            "colorbar": {
             "outlinewidth": 0,
             "ticks": ""
            },
            "type": "contourcarpet"
           }
          ],
          "heatmap": [
           {
            "colorbar": {
             "outlinewidth": 0,
             "ticks": ""
            },
            "colorscale": [
             [
              0,
              "#0d0887"
             ],
             [
              0.1111111111111111,
              "#46039f"
             ],
             [
              0.2222222222222222,
              "#7201a8"
             ],
             [
              0.3333333333333333,
              "#9c179e"
             ],
             [
              0.4444444444444444,
              "#bd3786"
             ],
             [
              0.5555555555555556,
              "#d8576b"
             ],
             [
              0.6666666666666666,
              "#ed7953"
             ],
             [
              0.7777777777777778,
              "#fb9f3a"
             ],
             [
              0.8888888888888888,
              "#fdca26"
             ],
             [
              1,
              "#f0f921"
             ]
            ],
            "type": "heatmap"
           }
          ],
          "histogram": [
           {
            "marker": {
             "pattern": {
              "fillmode": "overlay",
              "size": 10,
              "solidity": 0.2
             }
            },
            "type": "histogram"
           }
          ],
          "histogram2d": [
           {
            "colorbar": {
             "outlinewidth": 0,
             "ticks": ""
            },
            "colorscale": [
             [
              0,
              "#0d0887"
             ],
             [
              0.1111111111111111,
              "#46039f"
             ],
             [
              0.2222222222222222,
              "#7201a8"
             ],
             [
              0.3333333333333333,
              "#9c179e"
             ],
             [
              0.4444444444444444,
              "#bd3786"
             ],
             [
              0.5555555555555556,
              "#d8576b"
             ],
             [
              0.6666666666666666,
              "#ed7953"
             ],
             [
              0.7777777777777778,
              "#fb9f3a"
             ],
             [
              0.8888888888888888,
              "#fdca26"
             ],
             [
              1,
              "#f0f921"
             ]
            ],
            "type": "histogram2d"
           }
          ],
          "histogram2dcontour": [
           {
            "colorbar": {
             "outlinewidth": 0,
             "ticks": ""
            },
            "colorscale": [
             [
              0,
              "#0d0887"
             ],
             [
              0.1111111111111111,
              "#46039f"
             ],
             [
              0.2222222222222222,
              "#7201a8"
             ],
             [
              0.3333333333333333,
              "#9c179e"
             ],
             [
              0.4444444444444444,
              "#bd3786"
             ],
             [
              0.5555555555555556,
              "#d8576b"
             ],
             [
              0.6666666666666666,
              "#ed7953"
             ],
             [
              0.7777777777777778,
              "#fb9f3a"
             ],
             [
              0.8888888888888888,
              "#fdca26"
             ],
             [
              1,
              "#f0f921"
             ]
            ],
            "type": "histogram2dcontour"
           }
          ],
          "mesh3d": [
           {
            "colorbar": {
             "outlinewidth": 0,
             "ticks": ""
            },
            "type": "mesh3d"
           }
          ],
          "parcoords": [
           {
            "line": {
             "colorbar": {
              "outlinewidth": 0,
              "ticks": ""
             }
            },
            "type": "parcoords"
           }
          ],
          "pie": [
           {
            "automargin": true,
            "type": "pie"
           }
          ],
          "scatter": [
           {
            "fillpattern": {
             "fillmode": "overlay",
             "size": 10,
             "solidity": 0.2
            },
            "type": "scatter"
           }
          ],
          "scatter3d": [
           {
            "line": {
             "colorbar": {
              "outlinewidth": 0,
              "ticks": ""
             }
            },
            "marker": {
             "colorbar": {
              "outlinewidth": 0,
              "ticks": ""
             }
            },
            "type": "scatter3d"
           }
          ],
          "scattercarpet": [
           {
            "marker": {
             "colorbar": {
              "outlinewidth": 0,
              "ticks": ""
             }
            },
            "type": "scattercarpet"
           }
          ],
          "scattergeo": [
           {
            "marker": {
             "colorbar": {
              "outlinewidth": 0,
              "ticks": ""
             }
            },
            "type": "scattergeo"
           }
          ],
          "scattergl": [
           {
            "marker": {
             "colorbar": {
              "outlinewidth": 0,
              "ticks": ""
             }
            },
            "type": "scattergl"
           }
          ],
          "scattermap": [
           {
            "marker": {
             "colorbar": {
              "outlinewidth": 0,
              "ticks": ""
             }
            },
            "type": "scattermap"
           }
          ],
          "scattermapbox": [
           {
            "marker": {
             "colorbar": {
              "outlinewidth": 0,
              "ticks": ""
             }
            },
            "type": "scattermapbox"
           }
          ],
          "scatterpolar": [
           {
            "marker": {
             "colorbar": {
              "outlinewidth": 0,
              "ticks": ""
             }
            },
            "type": "scatterpolar"
           }
          ],
          "scatterpolargl": [
           {
            "marker": {
             "colorbar": {
              "outlinewidth": 0,
              "ticks": ""
             }
            },
            "type": "scatterpolargl"
           }
          ],
          "scatterternary": [
           {
            "marker": {
             "colorbar": {
              "outlinewidth": 0,
              "ticks": ""
             }
            },
            "type": "scatterternary"
           }
          ],
          "surface": [
           {
            "colorbar": {
             "outlinewidth": 0,
             "ticks": ""
            },
            "colorscale": [
             [
              0,
              "#0d0887"
             ],
             [
              0.1111111111111111,
              "#46039f"
             ],
             [
              0.2222222222222222,
              "#7201a8"
             ],
             [
              0.3333333333333333,
              "#9c179e"
             ],
             [
              0.4444444444444444,
              "#bd3786"
             ],
             [
              0.5555555555555556,
              "#d8576b"
             ],
             [
              0.6666666666666666,
              "#ed7953"
             ],
             [
              0.7777777777777778,
              "#fb9f3a"
             ],
             [
              0.8888888888888888,
              "#fdca26"
             ],
             [
              1,
              "#f0f921"
             ]
            ],
            "type": "surface"
           }
          ],
          "table": [
           {
            "cells": {
             "fill": {
              "color": "#EBF0F8"
             },
             "line": {
              "color": "white"
             }
            },
            "header": {
             "fill": {
              "color": "#C8D4E3"
             },
             "line": {
              "color": "white"
             }
            },
            "type": "table"
           }
          ]
         },
         "layout": {
          "annotationdefaults": {
           "arrowcolor": "#2a3f5f",
           "arrowhead": 0,
           "arrowwidth": 1
          },
          "autotypenumbers": "strict",
          "coloraxis": {
           "colorbar": {
            "outlinewidth": 0,
            "ticks": ""
           }
          },
          "colorscale": {
           "diverging": [
            [
             0,
             "#8e0152"
            ],
            [
             0.1,
             "#c51b7d"
            ],
            [
             0.2,
             "#de77ae"
            ],
            [
             0.3,
             "#f1b6da"
            ],
            [
             0.4,
             "#fde0ef"
            ],
            [
             0.5,
             "#f7f7f7"
            ],
            [
             0.6,
             "#e6f5d0"
            ],
            [
             0.7,
             "#b8e186"
            ],
            [
             0.8,
             "#7fbc41"
            ],
            [
             0.9,
             "#4d9221"
            ],
            [
             1,
             "#276419"
            ]
           ],
           "sequential": [
            [
             0,
             "#0d0887"
            ],
            [
             0.1111111111111111,
             "#46039f"
            ],
            [
             0.2222222222222222,
             "#7201a8"
            ],
            [
             0.3333333333333333,
             "#9c179e"
            ],
            [
             0.4444444444444444,
             "#bd3786"
            ],
            [
             0.5555555555555556,
             "#d8576b"
            ],
            [
             0.6666666666666666,
             "#ed7953"
            ],
            [
             0.7777777777777778,
             "#fb9f3a"
            ],
            [
             0.8888888888888888,
             "#fdca26"
            ],
            [
             1,
             "#f0f921"
            ]
           ],
           "sequentialminus": [
            [
             0,
             "#0d0887"
            ],
            [
             0.1111111111111111,
             "#46039f"
            ],
            [
             0.2222222222222222,
             "#7201a8"
            ],
            [
             0.3333333333333333,
             "#9c179e"
            ],
            [
             0.4444444444444444,
             "#bd3786"
            ],
            [
             0.5555555555555556,
             "#d8576b"
            ],
            [
             0.6666666666666666,
             "#ed7953"
            ],
            [
             0.7777777777777778,
             "#fb9f3a"
            ],
            [
             0.8888888888888888,
             "#fdca26"
            ],
            [
             1,
             "#f0f921"
            ]
           ]
          },
          "colorway": [
           "#636efa",
           "#EF553B",
           "#00cc96",
           "#ab63fa",
           "#FFA15A",
           "#19d3f3",
           "#FF6692",
           "#B6E880",
           "#FF97FF",
           "#FECB52"
          ],
          "font": {
           "color": "#2a3f5f"
          },
          "geo": {
           "bgcolor": "white",
           "lakecolor": "white",
           "landcolor": "#E5ECF6",
           "showlakes": true,
           "showland": true,
           "subunitcolor": "white"
          },
          "hoverlabel": {
           "align": "left"
          },
          "hovermode": "closest",
          "mapbox": {
           "style": "light"
          },
          "paper_bgcolor": "white",
          "plot_bgcolor": "#E5ECF6",
          "polar": {
           "angularaxis": {
            "gridcolor": "white",
            "linecolor": "white",
            "ticks": ""
           },
           "bgcolor": "#E5ECF6",
           "radialaxis": {
            "gridcolor": "white",
            "linecolor": "white",
            "ticks": ""
           }
          },
          "scene": {
           "xaxis": {
            "backgroundcolor": "#E5ECF6",
            "gridcolor": "white",
            "gridwidth": 2,
            "linecolor": "white",
            "showbackground": true,
            "ticks": "",
            "zerolinecolor": "white"
           },
           "yaxis": {
            "backgroundcolor": "#E5ECF6",
            "gridcolor": "white",
            "gridwidth": 2,
            "linecolor": "white",
            "showbackground": true,
            "ticks": "",
            "zerolinecolor": "white"
           },
           "zaxis": {
            "backgroundcolor": "#E5ECF6",
            "gridcolor": "white",
            "gridwidth": 2,
            "linecolor": "white",
            "showbackground": true,
            "ticks": "",
            "zerolinecolor": "white"
           }
          },
          "shapedefaults": {
           "line": {
            "color": "#2a3f5f"
           }
          },
          "ternary": {
           "aaxis": {
            "gridcolor": "white",
            "linecolor": "white",
            "ticks": ""
           },
           "baxis": {
            "gridcolor": "white",
            "linecolor": "white",
            "ticks": ""
           },
           "bgcolor": "#E5ECF6",
           "caxis": {
            "gridcolor": "white",
            "linecolor": "white",
            "ticks": ""
           }
          },
          "title": {
           "x": 0.05
          },
          "xaxis": {
           "automargin": true,
           "gridcolor": "white",
           "linecolor": "white",
           "ticks": "",
           "title": {
            "standoff": 15
           },
           "zerolinecolor": "white",
           "zerolinewidth": 2
          },
          "yaxis": {
           "automargin": true,
           "gridcolor": "white",
           "linecolor": "white",
           "ticks": "",
           "title": {
            "standoff": 15
           },
           "zerolinecolor": "white",
           "zerolinewidth": 2
          }
         }
        },
        "xaxis": {
         "anchor": "y",
         "categoryarray": [
          "M",
          "B"
         ],
         "categoryorder": "array",
         "domain": [
          0,
          1
         ],
         "title": {
          "text": "diagnosis"
         }
        },
        "yaxis": {
         "anchor": "x",
         "domain": [
          0,
          1
         ],
         "title": {
          "text": "count"
         }
        }
       }
      }
     },
     "metadata": {},
     "output_type": "display_data"
    }
   ],
   "source": [
    "px.histogram(data_frame=df, x='diagnosis', color='diagnosis',color_discrete_sequence=['#A865C9','#f6abb6'])"
   ]
  },
  {
   "cell_type": "code",
   "execution_count": 6,
   "id": "4a5f3b7d",
   "metadata": {},
   "outputs": [
    {
     "data": {
      "application/vnd.plotly.v1+json": {
       "config": {
        "plotlyServerURL": "https://plot.ly"
       },
       "data": [
        {
         "bingroup": "x",
         "hovertemplate": "diagnosis=M<br>area_mean=%{x}<br>count=%{y}<extra></extra>",
         "legendgroup": "M",
         "marker": {
          "color": "#A865C9",
          "pattern": {
           "shape": ""
          }
         },
         "name": "M",
         "orientation": "v",
         "showlegend": true,
         "type": "histogram",
         "x": {
          "bdata": "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",
          "dtype": "f8"
         },
         "xaxis": "x",
         "yaxis": "y"
        },
        {
         "bingroup": "x",
         "hovertemplate": "diagnosis=B<br>area_mean=%{x}<br>count=%{y}<extra></extra>",
         "legendgroup": "B",
         "marker": {
          "color": "#f6abb6",
          "pattern": {
           "shape": ""
          }
         },
         "name": "B",
         "orientation": "v",
         "showlegend": true,
         "type": "histogram",
         "x": {
          "bdata": "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",
          "dtype": "f8"
         },
         "xaxis": "x",
         "yaxis": "y"
        }
       ],
       "layout": {
        "barmode": "relative",
        "legend": {
         "title": {
          "text": "diagnosis"
         },
         "tracegroupgap": 0
        },
        "margin": {
         "t": 60
        },
        "template": {
         "data": {
          "bar": [
           {
            "error_x": {
             "color": "#2a3f5f"
            },
            "error_y": {
             "color": "#2a3f5f"
            },
            "marker": {
             "line": {
              "color": "#E5ECF6",
              "width": 0.5
             },
             "pattern": {
              "fillmode": "overlay",
              "size": 10,
              "solidity": 0.2
             }
            },
            "type": "bar"
           }
          ],
          "barpolar": [
           {
            "marker": {
             "line": {
              "color": "#E5ECF6",
              "width": 0.5
             },
             "pattern": {
              "fillmode": "overlay",
              "size": 10,
              "solidity": 0.2
             }
            },
            "type": "barpolar"
           }
          ],
          "carpet": [
           {
            "aaxis": {
             "endlinecolor": "#2a3f5f",
             "gridcolor": "white",
             "linecolor": "white",
             "minorgridcolor": "white",
             "startlinecolor": "#2a3f5f"
            },
            "baxis": {
             "endlinecolor": "#2a3f5f",
             "gridcolor": "white",
             "linecolor": "white",
             "minorgridcolor": "white",
             "startlinecolor": "#2a3f5f"
            },
            "type": "carpet"
           }
          ],
          "choropleth": [
           {
            "colorbar": {
             "outlinewidth": 0,
             "ticks": ""
            },
            "type": "choropleth"
           }
          ],
          "contour": [
           {
            "colorbar": {
             "outlinewidth": 0,
             "ticks": ""
            },
            "colorscale": [
             [
              0,
              "#0d0887"
             ],
             [
              0.1111111111111111,
              "#46039f"
             ],
             [
              0.2222222222222222,
              "#7201a8"
             ],
             [
              0.3333333333333333,
              "#9c179e"
             ],
             [
              0.4444444444444444,
              "#bd3786"
             ],
             [
              0.5555555555555556,
              "#d8576b"
             ],
             [
              0.6666666666666666,
              "#ed7953"
             ],
             [
              0.7777777777777778,
              "#fb9f3a"
             ],
             [
              0.8888888888888888,
              "#fdca26"
             ],
             [
              1,
              "#f0f921"
             ]
            ],
            "type": "contour"
           }
          ],
          "contourcarpet": [
           {
            "colorbar": {
             "outlinewidth": 0,
             "ticks": ""
            },
            "type": "contourcarpet"
           }
          ],
          "heatmap": [
           {
            "colorbar": {
             "outlinewidth": 0,
             "ticks": ""
            },
            "colorscale": [
             [
              0,
              "#0d0887"
             ],
             [
              0.1111111111111111,
              "#46039f"
             ],
             [
              0.2222222222222222,
              "#7201a8"
             ],
             [
              0.3333333333333333,
              "#9c179e"
             ],
             [
              0.4444444444444444,
              "#bd3786"
             ],
             [
              0.5555555555555556,
              "#d8576b"
             ],
             [
              0.6666666666666666,
              "#ed7953"
             ],
             [
              0.7777777777777778,
              "#fb9f3a"
             ],
             [
              0.8888888888888888,
              "#fdca26"
             ],
             [
              1,
              "#f0f921"
             ]
            ],
            "type": "heatmap"
           }
          ],
          "histogram": [
           {
            "marker": {
             "pattern": {
              "fillmode": "overlay",
              "size": 10,
              "solidity": 0.2
             }
            },
            "type": "histogram"
           }
          ],
          "histogram2d": [
           {
            "colorbar": {
             "outlinewidth": 0,
             "ticks": ""
            },
            "colorscale": [
             [
              0,
              "#0d0887"
             ],
             [
              0.1111111111111111,
              "#46039f"
             ],
             [
              0.2222222222222222,
              "#7201a8"
             ],
             [
              0.3333333333333333,
              "#9c179e"
             ],
             [
              0.4444444444444444,
              "#bd3786"
             ],
             [
              0.5555555555555556,
              "#d8576b"
             ],
             [
              0.6666666666666666,
              "#ed7953"
             ],
             [
              0.7777777777777778,
              "#fb9f3a"
             ],
             [
              0.8888888888888888,
              "#fdca26"
             ],
             [
              1,
              "#f0f921"
             ]
            ],
            "type": "histogram2d"
           }
          ],
          "histogram2dcontour": [
           {
            "colorbar": {
             "outlinewidth": 0,
             "ticks": ""
            },
            "colorscale": [
             [
              0,
              "#0d0887"
             ],
             [
              0.1111111111111111,
              "#46039f"
             ],
             [
              0.2222222222222222,
              "#7201a8"
             ],
             [
              0.3333333333333333,
              "#9c179e"
             ],
             [
              0.4444444444444444,
              "#bd3786"
             ],
             [
              0.5555555555555556,
              "#d8576b"
             ],
             [
              0.6666666666666666,
              "#ed7953"
             ],
             [
              0.7777777777777778,
              "#fb9f3a"
             ],
             [
              0.8888888888888888,
              "#fdca26"
             ],
             [
              1,
              "#f0f921"
             ]
            ],
            "type": "histogram2dcontour"
           }
          ],
          "mesh3d": [
           {
            "colorbar": {
             "outlinewidth": 0,
             "ticks": ""
            },
            "type": "mesh3d"
           }
          ],
          "parcoords": [
           {
            "line": {
             "colorbar": {
              "outlinewidth": 0,
              "ticks": ""
             }
            },
            "type": "parcoords"
           }
          ],
          "pie": [
           {
            "automargin": true,
            "type": "pie"
           }
          ],
          "scatter": [
           {
            "fillpattern": {
             "fillmode": "overlay",
             "size": 10,
             "solidity": 0.2
            },
            "type": "scatter"
           }
          ],
          "scatter3d": [
           {
            "line": {
             "colorbar": {
              "outlinewidth": 0,
              "ticks": ""
             }
            },
            "marker": {
             "colorbar": {
              "outlinewidth": 0,
              "ticks": ""
             }
            },
            "type": "scatter3d"
           }
          ],
          "scattercarpet": [
           {
            "marker": {
             "colorbar": {
              "outlinewidth": 0,
              "ticks": ""
             }
            },
            "type": "scattercarpet"
           }
          ],
          "scattergeo": [
           {
            "marker": {
             "colorbar": {
              "outlinewidth": 0,
              "ticks": ""
             }
            },
            "type": "scattergeo"
           }
          ],
          "scattergl": [
           {
            "marker": {
             "colorbar": {
              "outlinewidth": 0,
              "ticks": ""
             }
            },
            "type": "scattergl"
           }
          ],
          "scattermap": [
           {
            "marker": {
             "colorbar": {
              "outlinewidth": 0,
              "ticks": ""
             }
            },
            "type": "scattermap"
           }
          ],
          "scattermapbox": [
           {
            "marker": {
             "colorbar": {
              "outlinewidth": 0,
              "ticks": ""
             }
            },
            "type": "scattermapbox"
           }
          ],
          "scatterpolar": [
           {
            "marker": {
             "colorbar": {
              "outlinewidth": 0,
              "ticks": ""
             }
            },
            "type": "scatterpolar"
           }
          ],
          "scatterpolargl": [
           {
            "marker": {
             "colorbar": {
              "outlinewidth": 0,
              "ticks": ""
             }
            },
            "type": "scatterpolargl"
           }
          ],
          "scatterternary": [
           {
            "marker": {
             "colorbar": {
              "outlinewidth": 0,
              "ticks": ""
             }
            },
            "type": "scatterternary"
           }
          ],
          "surface": [
           {
            "colorbar": {
             "outlinewidth": 0,
             "ticks": ""
            },
            "colorscale": [
             [
              0,
              "#0d0887"
             ],
             [
              0.1111111111111111,
              "#46039f"
             ],
             [
              0.2222222222222222,
              "#7201a8"
             ],
             [
              0.3333333333333333,
              "#9c179e"
             ],
             [
              0.4444444444444444,
              "#bd3786"
             ],
             [
              0.5555555555555556,
              "#d8576b"
             ],
             [
              0.6666666666666666,
              "#ed7953"
             ],
             [
              0.7777777777777778,
              "#fb9f3a"
             ],
             [
              0.8888888888888888,
              "#fdca26"
             ],
             [
              1,
              "#f0f921"
             ]
            ],
            "type": "surface"
           }
          ],
          "table": [
           {
            "cells": {
             "fill": {
              "color": "#EBF0F8"
             },
             "line": {
              "color": "white"
             }
            },
            "header": {
             "fill": {
              "color": "#C8D4E3"
             },
             "line": {
              "color": "white"
             }
            },
            "type": "table"
           }
          ]
         },
         "layout": {
          "annotationdefaults": {
           "arrowcolor": "#2a3f5f",
           "arrowhead": 0,
           "arrowwidth": 1
          },
          "autotypenumbers": "strict",
          "coloraxis": {
           "colorbar": {
            "outlinewidth": 0,
            "ticks": ""
           }
          },
          "colorscale": {
           "diverging": [
            [
             0,
             "#8e0152"
            ],
            [
             0.1,
             "#c51b7d"
            ],
            [
             0.2,
             "#de77ae"
            ],
            [
             0.3,
             "#f1b6da"
            ],
            [
             0.4,
             "#fde0ef"
            ],
            [
             0.5,
             "#f7f7f7"
            ],
            [
             0.6,
             "#e6f5d0"
            ],
            [
             0.7,
             "#b8e186"
            ],
            [
             0.8,
             "#7fbc41"
            ],
            [
             0.9,
             "#4d9221"
            ],
            [
             1,
             "#276419"
            ]
           ],
           "sequential": [
            [
             0,
             "#0d0887"
            ],
            [
             0.1111111111111111,
             "#46039f"
            ],
            [
             0.2222222222222222,
             "#7201a8"
            ],
            [
             0.3333333333333333,
             "#9c179e"
            ],
            [
             0.4444444444444444,
             "#bd3786"
            ],
            [
             0.5555555555555556,
             "#d8576b"
            ],
            [
             0.6666666666666666,
             "#ed7953"
            ],
            [
             0.7777777777777778,
             "#fb9f3a"
            ],
            [
             0.8888888888888888,
             "#fdca26"
            ],
            [
             1,
             "#f0f921"
            ]
           ],
           "sequentialminus": [
            [
             0,
             "#0d0887"
            ],
            [
             0.1111111111111111,
             "#46039f"
            ],
            [
             0.2222222222222222,
             "#7201a8"
            ],
            [
             0.3333333333333333,
             "#9c179e"
            ],
            [
             0.4444444444444444,
             "#bd3786"
            ],
            [
             0.5555555555555556,
             "#d8576b"
            ],
            [
             0.6666666666666666,
             "#ed7953"
            ],
            [
             0.7777777777777778,
             "#fb9f3a"
            ],
            [
             0.8888888888888888,
             "#fdca26"
            ],
            [
             1,
             "#f0f921"
            ]
           ]
          },
          "colorway": [
           "#636efa",
           "#EF553B",
           "#00cc96",
           "#ab63fa",
           "#FFA15A",
           "#19d3f3",
           "#FF6692",
           "#B6E880",
           "#FF97FF",
           "#FECB52"
          ],
          "font": {
           "color": "#2a3f5f"
          },
          "geo": {
           "bgcolor": "white",
           "lakecolor": "white",
           "landcolor": "#E5ECF6",
           "showlakes": true,
           "showland": true,
           "subunitcolor": "white"
          },
          "hoverlabel": {
           "align": "left"
          },
          "hovermode": "closest",
          "mapbox": {
           "style": "light"
          },
          "paper_bgcolor": "white",
          "plot_bgcolor": "#E5ECF6",
          "polar": {
           "angularaxis": {
            "gridcolor": "white",
            "linecolor": "white",
            "ticks": ""
           },
           "bgcolor": "#E5ECF6",
           "radialaxis": {
            "gridcolor": "white",
            "linecolor": "white",
            "ticks": ""
           }
          },
          "scene": {
           "xaxis": {
            "backgroundcolor": "#E5ECF6",
            "gridcolor": "white",
            "gridwidth": 2,
            "linecolor": "white",
            "showbackground": true,
            "ticks": "",
            "zerolinecolor": "white"
           },
           "yaxis": {
            "backgroundcolor": "#E5ECF6",
            "gridcolor": "white",
            "gridwidth": 2,
            "linecolor": "white",
            "showbackground": true,
            "ticks": "",
            "zerolinecolor": "white"
           },
           "zaxis": {
            "backgroundcolor": "#E5ECF6",
            "gridcolor": "white",
            "gridwidth": 2,
            "linecolor": "white",
            "showbackground": true,
            "ticks": "",
            "zerolinecolor": "white"
           }
          },
          "shapedefaults": {
           "line": {
            "color": "#2a3f5f"
           }
          },
          "ternary": {
           "aaxis": {
            "gridcolor": "white",
            "linecolor": "white",
            "ticks": ""
           },
           "baxis": {
            "gridcolor": "white",
            "linecolor": "white",
            "ticks": ""
           },
           "bgcolor": "#E5ECF6",
           "caxis": {
            "gridcolor": "white",
            "linecolor": "white",
            "ticks": ""
           }
          },
          "title": {
           "x": 0.05
          },
          "xaxis": {
           "automargin": true,
           "gridcolor": "white",
           "linecolor": "white",
           "ticks": "",
           "title": {
            "standoff": 15
           },
           "zerolinecolor": "white",
           "zerolinewidth": 2
          },
          "yaxis": {
           "automargin": true,
           "gridcolor": "white",
           "linecolor": "white",
           "ticks": "",
           "title": {
            "standoff": 15
           },
           "zerolinecolor": "white",
           "zerolinewidth": 2
          }
         }
        },
        "xaxis": {
         "anchor": "y",
         "domain": [
          0,
          1
         ],
         "title": {
          "text": "area_mean"
         }
        },
        "yaxis": {
         "anchor": "x",
         "domain": [
          0,
          1
         ],
         "title": {
          "text": "count"
         }
        }
       }
      }
     },
     "metadata": {},
     "output_type": "display_data"
    }
   ],
   "source": [
    "px.histogram(data_frame=df,x=df.area_mean,color='diagnosis',color_discrete_sequence=['#A865C9','#f6abb6'])"
   ]
  },
  {
   "cell_type": "code",
   "execution_count": 7,
   "id": "175257f6",
   "metadata": {},
   "outputs": [
    {
     "data": {
      "application/vnd.plotly.v1+json": {
       "config": {
        "plotlyServerURL": "https://plot.ly"
       },
       "data": [
        {
         "hovertemplate": "diagnosis=M<br>symmetry_worst=%{x}<br>index=%{y}<extra></extra>",
         "legendgroup": "M",
         "marker": {
          "color": "#A865C9",
          "symbol": "circle"
         },
         "mode": "markers",
         "name": "M",
         "orientation": "h",
         "showlegend": true,
         "type": "scatter",
         "x": {
          "bdata": "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",
          "dtype": "f8"
         },
         "xaxis": "x",
         "y": {
          "bdata": "AAABAAIAAwAEAAUABgAHAAgACQAKAAsADAANAA4ADwAQABEAEgAWABcAGAAZABoAGwAcAB0AHgAfACAAIQAiACMAJAAmACcAKAApACoAKwAsAC0ALwA1ADYAOAA5AD4AQABBAEYASABJAEsATQBOAFIAUwBVAFYAVwBbAF4AXwBjAGQAaQBsAHUAdgB3AHkAegB+AH8AgQCDAIQAhgCHAIoAjQCSAJwAoQCiAKQApwCoAKsArACxALQAtQC2ALgAugC+AMEAwgDEAMUAxgDHAMkAygDLAM0AzwDSANQA1QDWANcA2gDbAN8A5QDmAOkA7ADtAO8A9AD6APwA/QD+AP8AAAEBAQIBAwEEAQUBBgEHAQgBCQEQARIBFQEYARoBGwEpASwBLgE9AUEBQwFIAUkBSgFPAVEBUwFXAV8BYAFhAW0BbgFwAXEBcgF0AXUBewGBAYUBiAGJAZABmAGeAaEBrgGwAbEBswG5AbwBvgHBAcMBzAHNAdQB3wHnAekB7AHyAfMB9QH3Af0BAAICAgQCBQIJAhUCFwIYAjICMwI0AjUCNgI3Ag==",
          "dtype": "i2"
         },
         "yaxis": "y"
        },
        {
         "hovertemplate": "diagnosis=B<br>symmetry_worst=%{x}<br>index=%{y}<extra></extra>",
         "legendgroup": "B",
         "marker": {
          "color": "#f6abb6",
          "symbol": "circle"
         },
         "mode": "markers",
         "name": "B",
         "orientation": "h",
         "showlegend": true,
         "type": "scatter",
         "x": {
          "bdata": "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",
          "dtype": "f8"
         },
         "xaxis": "x",
         "y": {
          "bdata": "EwAUABUAJQAuADAAMQAyADMANAA3ADoAOwA8AD0APwBCAEMARABFAEcASgBMAE8AUABRAFQAWABZAFoAXABdAGAAYQBiAGUAZgBnAGgAagBrAG0AbgBvAHAAcQByAHMAdAB4AHsAfAB9AIAAggCFAIgAiQCLAIwAjgCPAJAAkQCTAJQAlQCWAJcAmACZAJoAmwCdAJ4AnwCgAKMApQCmAKkAqgCtAK4ArwCwALIAswC3ALkAuwC8AL0AvwDAAMMAyADMAM4A0ADRANMA2ADZANwA3QDeAOAA4QDiAOMA5ADnAOgA6gDrAO4A8ADxAPIA8wD1APYA9wD4APkA+wAKAQsBDAENAQ4BDwERARMBFAEWARcBGQEcAR0BHgEfASABIQEiASMBJAElASYBJwEoASoBKwEtAS8BMAExATIBMwE0ATUBNgE3ATgBOQE6ATsBPAE+AT8BQAFCAUQBRQFGAUcBSwFMAU0BTgFQAVIBVAFVAVYBWAFZAVoBWwFcAV0BXgFiAWMBZAFlAWYBZwFoAWkBagFrAWwBbwFzAXYBdwF4AXkBegF8AX0BfgF/AYABggGDAYQBhgGHAYoBiwGMAY0BjgGPAZEBkgGTAZQBlQGWAZcBmQGaAZsBnAGdAZ8BoAGiAaMBpAGlAaYBpwGoAakBqgGrAawBrQGvAbIBtAG1AbYBtwG4AboBuwG9Ab8BwAHCAcQBxQHGAccByAHJAcoBywHOAc8B0AHRAdIB0wHVAdYB1wHYAdkB2gHbAdwB3QHeAeAB4QHiAeMB5AHlAeYB6AHqAesB7QHuAe8B8AHxAfQB9gH4AfkB+gH7AfwB/gH/AQECAwIGAgcCCAIKAgsCDAINAg4CDwIQAhECEgITAhQCFgIZAhoCGwIcAh0CHgIfAiACIQIiAiMCJAIlAiYCJwIoAikCKgIrAiwCLQIuAi8CMAIxAjgC",
          "dtype": "i2"
         },
         "yaxis": "y"
        }
       ],
       "layout": {
        "legend": {
         "title": {
          "text": "diagnosis"
         },
         "tracegroupgap": 0
        },
        "margin": {
         "t": 60
        },
        "template": {
         "data": {
          "bar": [
           {
            "error_x": {
             "color": "#2a3f5f"
            },
            "error_y": {
             "color": "#2a3f5f"
            },
            "marker": {
             "line": {
              "color": "#E5ECF6",
              "width": 0.5
             },
             "pattern": {
              "fillmode": "overlay",
              "size": 10,
              "solidity": 0.2
             }
            },
            "type": "bar"
           }
          ],
          "barpolar": [
           {
            "marker": {
             "line": {
              "color": "#E5ECF6",
              "width": 0.5
             },
             "pattern": {
              "fillmode": "overlay",
              "size": 10,
              "solidity": 0.2
             }
            },
            "type": "barpolar"
           }
          ],
          "carpet": [
           {
            "aaxis": {
             "endlinecolor": "#2a3f5f",
             "gridcolor": "white",
             "linecolor": "white",
             "minorgridcolor": "white",
             "startlinecolor": "#2a3f5f"
            },
            "baxis": {
             "endlinecolor": "#2a3f5f",
             "gridcolor": "white",
             "linecolor": "white",
             "minorgridcolor": "white",
             "startlinecolor": "#2a3f5f"
            },
            "type": "carpet"
           }
          ],
          "choropleth": [
           {
            "colorbar": {
             "outlinewidth": 0,
             "ticks": ""
            },
            "type": "choropleth"
           }
          ],
          "contour": [
           {
            "colorbar": {
             "outlinewidth": 0,
             "ticks": ""
            },
            "colorscale": [
             [
              0,
              "#0d0887"
             ],
             [
              0.1111111111111111,
              "#46039f"
             ],
             [
              0.2222222222222222,
              "#7201a8"
             ],
             [
              0.3333333333333333,
              "#9c179e"
             ],
             [
              0.4444444444444444,
              "#bd3786"
             ],
             [
              0.5555555555555556,
              "#d8576b"
             ],
             [
              0.6666666666666666,
              "#ed7953"
             ],
             [
              0.7777777777777778,
              "#fb9f3a"
             ],
             [
              0.8888888888888888,
              "#fdca26"
             ],
             [
              1,
              "#f0f921"
             ]
            ],
            "type": "contour"
           }
          ],
          "contourcarpet": [
           {
            "colorbar": {
             "outlinewidth": 0,
             "ticks": ""
            },
            "type": "contourcarpet"
           }
          ],
          "heatmap": [
           {
            "colorbar": {
             "outlinewidth": 0,
             "ticks": ""
            },
            "colorscale": [
             [
              0,
              "#0d0887"
             ],
             [
              0.1111111111111111,
              "#46039f"
             ],
             [
              0.2222222222222222,
              "#7201a8"
             ],
             [
              0.3333333333333333,
              "#9c179e"
             ],
             [
              0.4444444444444444,
              "#bd3786"
             ],
             [
              0.5555555555555556,
              "#d8576b"
             ],
             [
              0.6666666666666666,
              "#ed7953"
             ],
             [
              0.7777777777777778,
              "#fb9f3a"
             ],
             [
              0.8888888888888888,
              "#fdca26"
             ],
             [
              1,
              "#f0f921"
             ]
            ],
            "type": "heatmap"
           }
          ],
          "histogram": [
           {
            "marker": {
             "pattern": {
              "fillmode": "overlay",
              "size": 10,
              "solidity": 0.2
             }
            },
            "type": "histogram"
           }
          ],
          "histogram2d": [
           {
            "colorbar": {
             "outlinewidth": 0,
             "ticks": ""
            },
            "colorscale": [
             [
              0,
              "#0d0887"
             ],
             [
              0.1111111111111111,
              "#46039f"
             ],
             [
              0.2222222222222222,
              "#7201a8"
             ],
             [
              0.3333333333333333,
              "#9c179e"
             ],
             [
              0.4444444444444444,
              "#bd3786"
             ],
             [
              0.5555555555555556,
              "#d8576b"
             ],
             [
              0.6666666666666666,
              "#ed7953"
             ],
             [
              0.7777777777777778,
              "#fb9f3a"
             ],
             [
              0.8888888888888888,
              "#fdca26"
             ],
             [
              1,
              "#f0f921"
             ]
            ],
            "type": "histogram2d"
           }
          ],
          "histogram2dcontour": [
           {
            "colorbar": {
             "outlinewidth": 0,
             "ticks": ""
            },
            "colorscale": [
             [
              0,
              "#0d0887"
             ],
             [
              0.1111111111111111,
              "#46039f"
             ],
             [
              0.2222222222222222,
              "#7201a8"
             ],
             [
              0.3333333333333333,
              "#9c179e"
             ],
             [
              0.4444444444444444,
              "#bd3786"
             ],
             [
              0.5555555555555556,
              "#d8576b"
             ],
             [
              0.6666666666666666,
              "#ed7953"
             ],
             [
              0.7777777777777778,
              "#fb9f3a"
             ],
             [
              0.8888888888888888,
              "#fdca26"
             ],
             [
              1,
              "#f0f921"
             ]
            ],
            "type": "histogram2dcontour"
           }
          ],
          "mesh3d": [
           {
            "colorbar": {
             "outlinewidth": 0,
             "ticks": ""
            },
            "type": "mesh3d"
           }
          ],
          "parcoords": [
           {
            "line": {
             "colorbar": {
              "outlinewidth": 0,
              "ticks": ""
             }
            },
            "type": "parcoords"
           }
          ],
          "pie": [
           {
            "automargin": true,
            "type": "pie"
           }
          ],
          "scatter": [
           {
            "fillpattern": {
             "fillmode": "overlay",
             "size": 10,
             "solidity": 0.2
            },
            "type": "scatter"
           }
          ],
          "scatter3d": [
           {
            "line": {
             "colorbar": {
              "outlinewidth": 0,
              "ticks": ""
             }
            },
            "marker": {
             "colorbar": {
              "outlinewidth": 0,
              "ticks": ""
             }
            },
            "type": "scatter3d"
           }
          ],
          "scattercarpet": [
           {
            "marker": {
             "colorbar": {
              "outlinewidth": 0,
              "ticks": ""
             }
            },
            "type": "scattercarpet"
           }
          ],
          "scattergeo": [
           {
            "marker": {
             "colorbar": {
              "outlinewidth": 0,
              "ticks": ""
             }
            },
            "type": "scattergeo"
           }
          ],
          "scattergl": [
           {
            "marker": {
             "colorbar": {
              "outlinewidth": 0,
              "ticks": ""
             }
            },
            "type": "scattergl"
           }
          ],
          "scattermap": [
           {
            "marker": {
             "colorbar": {
              "outlinewidth": 0,
              "ticks": ""
             }
            },
            "type": "scattermap"
           }
          ],
          "scattermapbox": [
           {
            "marker": {
             "colorbar": {
              "outlinewidth": 0,
              "ticks": ""
             }
            },
            "type": "scattermapbox"
           }
          ],
          "scatterpolar": [
           {
            "marker": {
             "colorbar": {
              "outlinewidth": 0,
              "ticks": ""
             }
            },
            "type": "scatterpolar"
           }
          ],
          "scatterpolargl": [
           {
            "marker": {
             "colorbar": {
              "outlinewidth": 0,
              "ticks": ""
             }
            },
            "type": "scatterpolargl"
           }
          ],
          "scatterternary": [
           {
            "marker": {
             "colorbar": {
              "outlinewidth": 0,
              "ticks": ""
             }
            },
            "type": "scatterternary"
           }
          ],
          "surface": [
           {
            "colorbar": {
             "outlinewidth": 0,
             "ticks": ""
            },
            "colorscale": [
             [
              0,
              "#0d0887"
             ],
             [
              0.1111111111111111,
              "#46039f"
             ],
             [
              0.2222222222222222,
              "#7201a8"
             ],
             [
              0.3333333333333333,
              "#9c179e"
             ],
             [
              0.4444444444444444,
              "#bd3786"
             ],
             [
              0.5555555555555556,
              "#d8576b"
             ],
             [
              0.6666666666666666,
              "#ed7953"
             ],
             [
              0.7777777777777778,
              "#fb9f3a"
             ],
             [
              0.8888888888888888,
              "#fdca26"
             ],
             [
              1,
              "#f0f921"
             ]
            ],
            "type": "surface"
           }
          ],
          "table": [
           {
            "cells": {
             "fill": {
              "color": "#EBF0F8"
             },
             "line": {
              "color": "white"
             }
            },
            "header": {
             "fill": {
              "color": "#C8D4E3"
             },
             "line": {
              "color": "white"
             }
            },
            "type": "table"
           }
          ]
         },
         "layout": {
          "annotationdefaults": {
           "arrowcolor": "#2a3f5f",
           "arrowhead": 0,
           "arrowwidth": 1
          },
          "autotypenumbers": "strict",
          "coloraxis": {
           "colorbar": {
            "outlinewidth": 0,
            "ticks": ""
           }
          },
          "colorscale": {
           "diverging": [
            [
             0,
             "#8e0152"
            ],
            [
             0.1,
             "#c51b7d"
            ],
            [
             0.2,
             "#de77ae"
            ],
            [
             0.3,
             "#f1b6da"
            ],
            [
             0.4,
             "#fde0ef"
            ],
            [
             0.5,
             "#f7f7f7"
            ],
            [
             0.6,
             "#e6f5d0"
            ],
            [
             0.7,
             "#b8e186"
            ],
            [
             0.8,
             "#7fbc41"
            ],
            [
             0.9,
             "#4d9221"
            ],
            [
             1,
             "#276419"
            ]
           ],
           "sequential": [
            [
             0,
             "#0d0887"
            ],
            [
             0.1111111111111111,
             "#46039f"
            ],
            [
             0.2222222222222222,
             "#7201a8"
            ],
            [
             0.3333333333333333,
             "#9c179e"
            ],
            [
             0.4444444444444444,
             "#bd3786"
            ],
            [
             0.5555555555555556,
             "#d8576b"
            ],
            [
             0.6666666666666666,
             "#ed7953"
            ],
            [
             0.7777777777777778,
             "#fb9f3a"
            ],
            [
             0.8888888888888888,
             "#fdca26"
            ],
            [
             1,
             "#f0f921"
            ]
           ],
           "sequentialminus": [
            [
             0,
             "#0d0887"
            ],
            [
             0.1111111111111111,
             "#46039f"
            ],
            [
             0.2222222222222222,
             "#7201a8"
            ],
            [
             0.3333333333333333,
             "#9c179e"
            ],
            [
             0.4444444444444444,
             "#bd3786"
            ],
            [
             0.5555555555555556,
             "#d8576b"
            ],
            [
             0.6666666666666666,
             "#ed7953"
            ],
            [
             0.7777777777777778,
             "#fb9f3a"
            ],
            [
             0.8888888888888888,
             "#fdca26"
            ],
            [
             1,
             "#f0f921"
            ]
           ]
          },
          "colorway": [
           "#636efa",
           "#EF553B",
           "#00cc96",
           "#ab63fa",
           "#FFA15A",
           "#19d3f3",
           "#FF6692",
           "#B6E880",
           "#FF97FF",
           "#FECB52"
          ],
          "font": {
           "color": "#2a3f5f"
          },
          "geo": {
           "bgcolor": "white",
           "lakecolor": "white",
           "landcolor": "#E5ECF6",
           "showlakes": true,
           "showland": true,
           "subunitcolor": "white"
          },
          "hoverlabel": {
           "align": "left"
          },
          "hovermode": "closest",
          "mapbox": {
           "style": "light"
          },
          "paper_bgcolor": "white",
          "plot_bgcolor": "#E5ECF6",
          "polar": {
           "angularaxis": {
            "gridcolor": "white",
            "linecolor": "white",
            "ticks": ""
           },
           "bgcolor": "#E5ECF6",
           "radialaxis": {
            "gridcolor": "white",
            "linecolor": "white",
            "ticks": ""
           }
          },
          "scene": {
           "xaxis": {
            "backgroundcolor": "#E5ECF6",
            "gridcolor": "white",
            "gridwidth": 2,
            "linecolor": "white",
            "showbackground": true,
            "ticks": "",
            "zerolinecolor": "white"
           },
           "yaxis": {
            "backgroundcolor": "#E5ECF6",
            "gridcolor": "white",
            "gridwidth": 2,
            "linecolor": "white",
            "showbackground": true,
            "ticks": "",
            "zerolinecolor": "white"
           },
           "zaxis": {
            "backgroundcolor": "#E5ECF6",
            "gridcolor": "white",
            "gridwidth": 2,
            "linecolor": "white",
            "showbackground": true,
            "ticks": "",
            "zerolinecolor": "white"
           }
          },
          "shapedefaults": {
           "line": {
            "color": "#2a3f5f"
           }
          },
          "ternary": {
           "aaxis": {
            "gridcolor": "white",
            "linecolor": "white",
            "ticks": ""
           },
           "baxis": {
            "gridcolor": "white",
            "linecolor": "white",
            "ticks": ""
           },
           "bgcolor": "#E5ECF6",
           "caxis": {
            "gridcolor": "white",
            "linecolor": "white",
            "ticks": ""
           }
          },
          "title": {
           "x": 0.05
          },
          "xaxis": {
           "automargin": true,
           "gridcolor": "white",
           "linecolor": "white",
           "ticks": "",
           "title": {
            "standoff": 15
           },
           "zerolinecolor": "white",
           "zerolinewidth": 2
          },
          "yaxis": {
           "automargin": true,
           "gridcolor": "white",
           "linecolor": "white",
           "ticks": "",
           "title": {
            "standoff": 15
           },
           "zerolinecolor": "white",
           "zerolinewidth": 2
          }
         }
        },
        "xaxis": {
         "anchor": "y",
         "domain": [
          0,
          1
         ],
         "title": {
          "text": "symmetry_worst"
         }
        },
        "yaxis": {
         "anchor": "x",
         "domain": [
          0,
          1
         ],
         "title": {
          "text": "index"
         }
        }
       }
      }
     },
     "metadata": {},
     "output_type": "display_data"
    }
   ],
   "source": [
    "px.scatter(data_frame=df,x='symmetry_worst',color='diagnosis',color_discrete_sequence=['#A865C9','#f6abb6'])"
   ]
  },
  {
   "cell_type": "code",
   "execution_count": 8,
   "id": "c4a4fa9f",
   "metadata": {},
   "outputs": [
    {
     "data": {
      "application/vnd.plotly.v1+json": {
       "config": {
        "plotlyServerURL": "https://plot.ly"
       },
       "data": [
        {
         "hovertemplate": "diagnosis=M<br>concavity_worst=%{x}<br>index=%{y}<extra></extra>",
         "legendgroup": "M",
         "marker": {
          "color": "#A865C9",
          "symbol": "circle"
         },
         "mode": "markers",
         "name": "M",
         "orientation": "h",
         "showlegend": true,
         "type": "scatter",
         "x": {
          "bdata": "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",
          "dtype": "f8"
         },
         "xaxis": "x",
         "y": {
          "bdata": "AAABAAIAAwAEAAUABgAHAAgACQAKAAsADAANAA4ADwAQABEAEgAWABcAGAAZABoAGwAcAB0AHgAfACAAIQAiACMAJAAmACcAKAApACoAKwAsAC0ALwA1ADYAOAA5AD4AQABBAEYASABJAEsATQBOAFIAUwBVAFYAVwBbAF4AXwBjAGQAaQBsAHUAdgB3AHkAegB+AH8AgQCDAIQAhgCHAIoAjQCSAJwAoQCiAKQApwCoAKsArACxALQAtQC2ALgAugC+AMEAwgDEAMUAxgDHAMkAygDLAM0AzwDSANQA1QDWANcA2gDbAN8A5QDmAOkA7ADtAO8A9AD6APwA/QD+AP8AAAEBAQIBAwEEAQUBBgEHAQgBCQEQARIBFQEYARoBGwEpASwBLgE9AUEBQwFIAUkBSgFPAVEBUwFXAV8BYAFhAW0BbgFwAXEBcgF0AXUBewGBAYUBiAGJAZABmAGeAaEBrgGwAbEBswG5AbwBvgHBAcMBzAHNAdQB3wHnAekB7AHyAfMB9QH3Af0BAAICAgQCBQIJAhUCFwIYAjICMwI0AjUCNgI3Ag==",
          "dtype": "i2"
         },
         "yaxis": "y"
        },
        {
         "hovertemplate": "diagnosis=B<br>concavity_worst=%{x}<br>index=%{y}<extra></extra>",
         "legendgroup": "B",
         "marker": {
          "color": "#f6abb6",
          "symbol": "circle"
         },
         "mode": "markers",
         "name": "B",
         "orientation": "h",
         "showlegend": true,
         "type": "scatter",
         "x": {
          "bdata": "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",
          "dtype": "f8"
         },
         "xaxis": "x",
         "y": {
          "bdata": "EwAUABUAJQAuADAAMQAyADMANAA3ADoAOwA8AD0APwBCAEMARABFAEcASgBMAE8AUABRAFQAWABZAFoAXABdAGAAYQBiAGUAZgBnAGgAagBrAG0AbgBvAHAAcQByAHMAdAB4AHsAfAB9AIAAggCFAIgAiQCLAIwAjgCPAJAAkQCTAJQAlQCWAJcAmACZAJoAmwCdAJ4AnwCgAKMApQCmAKkAqgCtAK4ArwCwALIAswC3ALkAuwC8AL0AvwDAAMMAyADMAM4A0ADRANMA2ADZANwA3QDeAOAA4QDiAOMA5ADnAOgA6gDrAO4A8ADxAPIA8wD1APYA9wD4APkA+wAKAQsBDAENAQ4BDwERARMBFAEWARcBGQEcAR0BHgEfASABIQEiASMBJAElASYBJwEoASoBKwEtAS8BMAExATIBMwE0ATUBNgE3ATgBOQE6ATsBPAE+AT8BQAFCAUQBRQFGAUcBSwFMAU0BTgFQAVIBVAFVAVYBWAFZAVoBWwFcAV0BXgFiAWMBZAFlAWYBZwFoAWkBagFrAWwBbwFzAXYBdwF4AXkBegF8AX0BfgF/AYABggGDAYQBhgGHAYoBiwGMAY0BjgGPAZEBkgGTAZQBlQGWAZcBmQGaAZsBnAGdAZ8BoAGiAaMBpAGlAaYBpwGoAakBqgGrAawBrQGvAbIBtAG1AbYBtwG4AboBuwG9Ab8BwAHCAcQBxQHGAccByAHJAcoBywHOAc8B0AHRAdIB0wHVAdYB1wHYAdkB2gHbAdwB3QHeAeAB4QHiAeMB5AHlAeYB6AHqAesB7QHuAe8B8AHxAfQB9gH4AfkB+gH7AfwB/gH/AQECAwIGAgcCCAIKAgsCDAINAg4CDwIQAhECEgITAhQCFgIZAhoCGwIcAh0CHgIfAiACIQIiAiMCJAIlAiYCJwIoAikCKgIrAiwCLQIuAi8CMAIxAjgC",
          "dtype": "i2"
         },
         "yaxis": "y"
        }
       ],
       "layout": {
        "legend": {
         "title": {
          "text": "diagnosis"
         },
         "tracegroupgap": 0
        },
        "margin": {
         "t": 60
        },
        "template": {
         "data": {
          "bar": [
           {
            "error_x": {
             "color": "#2a3f5f"
            },
            "error_y": {
             "color": "#2a3f5f"
            },
            "marker": {
             "line": {
              "color": "#E5ECF6",
              "width": 0.5
             },
             "pattern": {
              "fillmode": "overlay",
              "size": 10,
              "solidity": 0.2
             }
            },
            "type": "bar"
           }
          ],
          "barpolar": [
           {
            "marker": {
             "line": {
              "color": "#E5ECF6",
              "width": 0.5
             },
             "pattern": {
              "fillmode": "overlay",
              "size": 10,
              "solidity": 0.2
             }
            },
            "type": "barpolar"
           }
          ],
          "carpet": [
           {
            "aaxis": {
             "endlinecolor": "#2a3f5f",
             "gridcolor": "white",
             "linecolor": "white",
             "minorgridcolor": "white",
             "startlinecolor": "#2a3f5f"
            },
            "baxis": {
             "endlinecolor": "#2a3f5f",
             "gridcolor": "white",
             "linecolor": "white",
             "minorgridcolor": "white",
             "startlinecolor": "#2a3f5f"
            },
            "type": "carpet"
           }
          ],
          "choropleth": [
           {
            "colorbar": {
             "outlinewidth": 0,
             "ticks": ""
            },
            "type": "choropleth"
           }
          ],
          "contour": [
           {
            "colorbar": {
             "outlinewidth": 0,
             "ticks": ""
            },
            "colorscale": [
             [
              0,
              "#0d0887"
             ],
             [
              0.1111111111111111,
              "#46039f"
             ],
             [
              0.2222222222222222,
              "#7201a8"
             ],
             [
              0.3333333333333333,
              "#9c179e"
             ],
             [
              0.4444444444444444,
              "#bd3786"
             ],
             [
              0.5555555555555556,
              "#d8576b"
             ],
             [
              0.6666666666666666,
              "#ed7953"
             ],
             [
              0.7777777777777778,
              "#fb9f3a"
             ],
             [
              0.8888888888888888,
              "#fdca26"
             ],
             [
              1,
              "#f0f921"
             ]
            ],
            "type": "contour"
           }
          ],
          "contourcarpet": [
           {
            "colorbar": {
             "outlinewidth": 0,
             "ticks": ""
            },
            "type": "contourcarpet"
           }
          ],
          "heatmap": [
           {
            "colorbar": {
             "outlinewidth": 0,
             "ticks": ""
            },
            "colorscale": [
             [
              0,
              "#0d0887"
             ],
             [
              0.1111111111111111,
              "#46039f"
             ],
             [
              0.2222222222222222,
              "#7201a8"
             ],
             [
              0.3333333333333333,
              "#9c179e"
             ],
             [
              0.4444444444444444,
              "#bd3786"
             ],
             [
              0.5555555555555556,
              "#d8576b"
             ],
             [
              0.6666666666666666,
              "#ed7953"
             ],
             [
              0.7777777777777778,
              "#fb9f3a"
             ],
             [
              0.8888888888888888,
              "#fdca26"
             ],
             [
              1,
              "#f0f921"
             ]
            ],
            "type": "heatmap"
           }
          ],
          "histogram": [
           {
            "marker": {
             "pattern": {
              "fillmode": "overlay",
              "size": 10,
              "solidity": 0.2
             }
            },
            "type": "histogram"
           }
          ],
          "histogram2d": [
           {
            "colorbar": {
             "outlinewidth": 0,
             "ticks": ""
            },
            "colorscale": [
             [
              0,
              "#0d0887"
             ],
             [
              0.1111111111111111,
              "#46039f"
             ],
             [
              0.2222222222222222,
              "#7201a8"
             ],
             [
              0.3333333333333333,
              "#9c179e"
             ],
             [
              0.4444444444444444,
              "#bd3786"
             ],
             [
              0.5555555555555556,
              "#d8576b"
             ],
             [
              0.6666666666666666,
              "#ed7953"
             ],
             [
              0.7777777777777778,
              "#fb9f3a"
             ],
             [
              0.8888888888888888,
              "#fdca26"
             ],
             [
              1,
              "#f0f921"
             ]
            ],
            "type": "histogram2d"
           }
          ],
          "histogram2dcontour": [
           {
            "colorbar": {
             "outlinewidth": 0,
             "ticks": ""
            },
            "colorscale": [
             [
              0,
              "#0d0887"
             ],
             [
              0.1111111111111111,
              "#46039f"
             ],
             [
              0.2222222222222222,
              "#7201a8"
             ],
             [
              0.3333333333333333,
              "#9c179e"
             ],
             [
              0.4444444444444444,
              "#bd3786"
             ],
             [
              0.5555555555555556,
              "#d8576b"
             ],
             [
              0.6666666666666666,
              "#ed7953"
             ],
             [
              0.7777777777777778,
              "#fb9f3a"
             ],
             [
              0.8888888888888888,
              "#fdca26"
             ],
             [
              1,
              "#f0f921"
             ]
            ],
            "type": "histogram2dcontour"
           }
          ],
          "mesh3d": [
           {
            "colorbar": {
             "outlinewidth": 0,
             "ticks": ""
            },
            "type": "mesh3d"
           }
          ],
          "parcoords": [
           {
            "line": {
             "colorbar": {
              "outlinewidth": 0,
              "ticks": ""
             }
            },
            "type": "parcoords"
           }
          ],
          "pie": [
           {
            "automargin": true,
            "type": "pie"
           }
          ],
          "scatter": [
           {
            "fillpattern": {
             "fillmode": "overlay",
             "size": 10,
             "solidity": 0.2
            },
            "type": "scatter"
           }
          ],
          "scatter3d": [
           {
            "line": {
             "colorbar": {
              "outlinewidth": 0,
              "ticks": ""
             }
            },
            "marker": {
             "colorbar": {
              "outlinewidth": 0,
              "ticks": ""
             }
            },
            "type": "scatter3d"
           }
          ],
          "scattercarpet": [
           {
            "marker": {
             "colorbar": {
              "outlinewidth": 0,
              "ticks": ""
             }
            },
            "type": "scattercarpet"
           }
          ],
          "scattergeo": [
           {
            "marker": {
             "colorbar": {
              "outlinewidth": 0,
              "ticks": ""
             }
            },
            "type": "scattergeo"
           }
          ],
          "scattergl": [
           {
            "marker": {
             "colorbar": {
              "outlinewidth": 0,
              "ticks": ""
             }
            },
            "type": "scattergl"
           }
          ],
          "scattermap": [
           {
            "marker": {
             "colorbar": {
              "outlinewidth": 0,
              "ticks": ""
             }
            },
            "type": "scattermap"
           }
          ],
          "scattermapbox": [
           {
            "marker": {
             "colorbar": {
              "outlinewidth": 0,
              "ticks": ""
             }
            },
            "type": "scattermapbox"
           }
          ],
          "scatterpolar": [
           {
            "marker": {
             "colorbar": {
              "outlinewidth": 0,
              "ticks": ""
             }
            },
            "type": "scatterpolar"
           }
          ],
          "scatterpolargl": [
           {
            "marker": {
             "colorbar": {
              "outlinewidth": 0,
              "ticks": ""
             }
            },
            "type": "scatterpolargl"
           }
          ],
          "scatterternary": [
           {
            "marker": {
             "colorbar": {
              "outlinewidth": 0,
              "ticks": ""
             }
            },
            "type": "scatterternary"
           }
          ],
          "surface": [
           {
            "colorbar": {
             "outlinewidth": 0,
             "ticks": ""
            },
            "colorscale": [
             [
              0,
              "#0d0887"
             ],
             [
              0.1111111111111111,
              "#46039f"
             ],
             [
              0.2222222222222222,
              "#7201a8"
             ],
             [
              0.3333333333333333,
              "#9c179e"
             ],
             [
              0.4444444444444444,
              "#bd3786"
             ],
             [
              0.5555555555555556,
              "#d8576b"
             ],
             [
              0.6666666666666666,
              "#ed7953"
             ],
             [
              0.7777777777777778,
              "#fb9f3a"
             ],
             [
              0.8888888888888888,
              "#fdca26"
             ],
             [
              1,
              "#f0f921"
             ]
            ],
            "type": "surface"
           }
          ],
          "table": [
           {
            "cells": {
             "fill": {
              "color": "#EBF0F8"
             },
             "line": {
              "color": "white"
             }
            },
            "header": {
             "fill": {
              "color": "#C8D4E3"
             },
             "line": {
              "color": "white"
             }
            },
            "type": "table"
           }
          ]
         },
         "layout": {
          "annotationdefaults": {
           "arrowcolor": "#2a3f5f",
           "arrowhead": 0,
           "arrowwidth": 1
          },
          "autotypenumbers": "strict",
          "coloraxis": {
           "colorbar": {
            "outlinewidth": 0,
            "ticks": ""
           }
          },
          "colorscale": {
           "diverging": [
            [
             0,
             "#8e0152"
            ],
            [
             0.1,
             "#c51b7d"
            ],
            [
             0.2,
             "#de77ae"
            ],
            [
             0.3,
             "#f1b6da"
            ],
            [
             0.4,
             "#fde0ef"
            ],
            [
             0.5,
             "#f7f7f7"
            ],
            [
             0.6,
             "#e6f5d0"
            ],
            [
             0.7,
             "#b8e186"
            ],
            [
             0.8,
             "#7fbc41"
            ],
            [
             0.9,
             "#4d9221"
            ],
            [
             1,
             "#276419"
            ]
           ],
           "sequential": [
            [
             0,
             "#0d0887"
            ],
            [
             0.1111111111111111,
             "#46039f"
            ],
            [
             0.2222222222222222,
             "#7201a8"
            ],
            [
             0.3333333333333333,
             "#9c179e"
            ],
            [
             0.4444444444444444,
             "#bd3786"
            ],
            [
             0.5555555555555556,
             "#d8576b"
            ],
            [
             0.6666666666666666,
             "#ed7953"
            ],
            [
             0.7777777777777778,
             "#fb9f3a"
            ],
            [
             0.8888888888888888,
             "#fdca26"
            ],
            [
             1,
             "#f0f921"
            ]
           ],
           "sequentialminus": [
            [
             0,
             "#0d0887"
            ],
            [
             0.1111111111111111,
             "#46039f"
            ],
            [
             0.2222222222222222,
             "#7201a8"
            ],
            [
             0.3333333333333333,
             "#9c179e"
            ],
            [
             0.4444444444444444,
             "#bd3786"
            ],
            [
             0.5555555555555556,
             "#d8576b"
            ],
            [
             0.6666666666666666,
             "#ed7953"
            ],
            [
             0.7777777777777778,
             "#fb9f3a"
            ],
            [
             0.8888888888888888,
             "#fdca26"
            ],
            [
             1,
             "#f0f921"
            ]
           ]
          },
          "colorway": [
           "#636efa",
           "#EF553B",
           "#00cc96",
           "#ab63fa",
           "#FFA15A",
           "#19d3f3",
           "#FF6692",
           "#B6E880",
           "#FF97FF",
           "#FECB52"
          ],
          "font": {
           "color": "#2a3f5f"
          },
          "geo": {
           "bgcolor": "white",
           "lakecolor": "white",
           "landcolor": "#E5ECF6",
           "showlakes": true,
           "showland": true,
           "subunitcolor": "white"
          },
          "hoverlabel": {
           "align": "left"
          },
          "hovermode": "closest",
          "mapbox": {
           "style": "light"
          },
          "paper_bgcolor": "white",
          "plot_bgcolor": "#E5ECF6",
          "polar": {
           "angularaxis": {
            "gridcolor": "white",
            "linecolor": "white",
            "ticks": ""
           },
           "bgcolor": "#E5ECF6",
           "radialaxis": {
            "gridcolor": "white",
            "linecolor": "white",
            "ticks": ""
           }
          },
          "scene": {
           "xaxis": {
            "backgroundcolor": "#E5ECF6",
            "gridcolor": "white",
            "gridwidth": 2,
            "linecolor": "white",
            "showbackground": true,
            "ticks": "",
            "zerolinecolor": "white"
           },
           "yaxis": {
            "backgroundcolor": "#E5ECF6",
            "gridcolor": "white",
            "gridwidth": 2,
            "linecolor": "white",
            "showbackground": true,
            "ticks": "",
            "zerolinecolor": "white"
           },
           "zaxis": {
            "backgroundcolor": "#E5ECF6",
            "gridcolor": "white",
            "gridwidth": 2,
            "linecolor": "white",
            "showbackground": true,
            "ticks": "",
            "zerolinecolor": "white"
           }
          },
          "shapedefaults": {
           "line": {
            "color": "#2a3f5f"
           }
          },
          "ternary": {
           "aaxis": {
            "gridcolor": "white",
            "linecolor": "white",
            "ticks": ""
           },
           "baxis": {
            "gridcolor": "white",
            "linecolor": "white",
            "ticks": ""
           },
           "bgcolor": "#E5ECF6",
           "caxis": {
            "gridcolor": "white",
            "linecolor": "white",
            "ticks": ""
           }
          },
          "title": {
           "x": 0.05
          },
          "xaxis": {
           "automargin": true,
           "gridcolor": "white",
           "linecolor": "white",
           "ticks": "",
           "title": {
            "standoff": 15
           },
           "zerolinecolor": "white",
           "zerolinewidth": 2
          },
          "yaxis": {
           "automargin": true,
           "gridcolor": "white",
           "linecolor": "white",
           "ticks": "",
           "title": {
            "standoff": 15
           },
           "zerolinecolor": "white",
           "zerolinewidth": 2
          }
         }
        },
        "xaxis": {
         "anchor": "y",
         "domain": [
          0,
          1
         ],
         "title": {
          "text": "concavity_worst"
         }
        },
        "yaxis": {
         "anchor": "x",
         "domain": [
          0,
          1
         ],
         "title": {
          "text": "index"
         }
        }
       }
      }
     },
     "metadata": {},
     "output_type": "display_data"
    }
   ],
   "source": [
    "px.scatter(data_frame=df,x='concavity_worst',color='diagnosis',color_discrete_sequence=['#A865C9','#f6abb6'])"
   ]
  },
  {
   "cell_type": "code",
   "execution_count": 6,
   "id": "197f1073",
   "metadata": {},
   "outputs": [],
   "source": [
    "#preprocessing\n",
    "df.drop('id',axis=1,inplace=True)"
   ]
  },
  {
   "cell_type": "code",
   "execution_count": 7,
   "id": "5736eacb",
   "metadata": {},
   "outputs": [],
   "source": [
    "df['diagnosis'] = (df['diagnosis']=='M').astype(int)"
   ]
  },
  {
   "cell_type": "code",
   "execution_count": 8,
   "id": "78e5a56d",
   "metadata": {},
   "outputs": [
    {
     "data": {
      "text/html": [
       "<div>\n",
       "<style scoped>\n",
       "    .dataframe tbody tr th:only-of-type {\n",
       "        vertical-align: middle;\n",
       "    }\n",
       "\n",
       "    .dataframe tbody tr th {\n",
       "        vertical-align: top;\n",
       "    }\n",
       "\n",
       "    .dataframe thead th {\n",
       "        text-align: right;\n",
       "    }\n",
       "</style>\n",
       "<table border=\"1\" class=\"dataframe\">\n",
       "  <thead>\n",
       "    <tr style=\"text-align: right;\">\n",
       "      <th></th>\n",
       "      <th>diagnosis</th>\n",
       "      <th>radius_mean</th>\n",
       "      <th>texture_mean</th>\n",
       "      <th>perimeter_mean</th>\n",
       "      <th>area_mean</th>\n",
       "      <th>smoothness_mean</th>\n",
       "      <th>compactness_mean</th>\n",
       "      <th>concavity_mean</th>\n",
       "      <th>concave points_mean</th>\n",
       "      <th>symmetry_mean</th>\n",
       "      <th>...</th>\n",
       "      <th>radius_worst</th>\n",
       "      <th>texture_worst</th>\n",
       "      <th>perimeter_worst</th>\n",
       "      <th>area_worst</th>\n",
       "      <th>smoothness_worst</th>\n",
       "      <th>compactness_worst</th>\n",
       "      <th>concavity_worst</th>\n",
       "      <th>concave points_worst</th>\n",
       "      <th>symmetry_worst</th>\n",
       "      <th>fractal_dimension_worst</th>\n",
       "    </tr>\n",
       "  </thead>\n",
       "  <tbody>\n",
       "    <tr>\n",
       "      <th>0</th>\n",
       "      <td>1</td>\n",
       "      <td>17.99</td>\n",
       "      <td>10.38</td>\n",
       "      <td>122.80</td>\n",
       "      <td>1001.0</td>\n",
       "      <td>0.11840</td>\n",
       "      <td>0.27760</td>\n",
       "      <td>0.3001</td>\n",
       "      <td>0.14710</td>\n",
       "      <td>0.2419</td>\n",
       "      <td>...</td>\n",
       "      <td>25.38</td>\n",
       "      <td>17.33</td>\n",
       "      <td>184.60</td>\n",
       "      <td>2019.0</td>\n",
       "      <td>0.1622</td>\n",
       "      <td>0.6656</td>\n",
       "      <td>0.7119</td>\n",
       "      <td>0.2654</td>\n",
       "      <td>0.4601</td>\n",
       "      <td>0.11890</td>\n",
       "    </tr>\n",
       "    <tr>\n",
       "      <th>1</th>\n",
       "      <td>1</td>\n",
       "      <td>20.57</td>\n",
       "      <td>17.77</td>\n",
       "      <td>132.90</td>\n",
       "      <td>1326.0</td>\n",
       "      <td>0.08474</td>\n",
       "      <td>0.07864</td>\n",
       "      <td>0.0869</td>\n",
       "      <td>0.07017</td>\n",
       "      <td>0.1812</td>\n",
       "      <td>...</td>\n",
       "      <td>24.99</td>\n",
       "      <td>23.41</td>\n",
       "      <td>158.80</td>\n",
       "      <td>1956.0</td>\n",
       "      <td>0.1238</td>\n",
       "      <td>0.1866</td>\n",
       "      <td>0.2416</td>\n",
       "      <td>0.1860</td>\n",
       "      <td>0.2750</td>\n",
       "      <td>0.08902</td>\n",
       "    </tr>\n",
       "    <tr>\n",
       "      <th>2</th>\n",
       "      <td>1</td>\n",
       "      <td>19.69</td>\n",
       "      <td>21.25</td>\n",
       "      <td>130.00</td>\n",
       "      <td>1203.0</td>\n",
       "      <td>0.10960</td>\n",
       "      <td>0.15990</td>\n",
       "      <td>0.1974</td>\n",
       "      <td>0.12790</td>\n",
       "      <td>0.2069</td>\n",
       "      <td>...</td>\n",
       "      <td>23.57</td>\n",
       "      <td>25.53</td>\n",
       "      <td>152.50</td>\n",
       "      <td>1709.0</td>\n",
       "      <td>0.1444</td>\n",
       "      <td>0.4245</td>\n",
       "      <td>0.4504</td>\n",
       "      <td>0.2430</td>\n",
       "      <td>0.3613</td>\n",
       "      <td>0.08758</td>\n",
       "    </tr>\n",
       "    <tr>\n",
       "      <th>3</th>\n",
       "      <td>1</td>\n",
       "      <td>11.42</td>\n",
       "      <td>20.38</td>\n",
       "      <td>77.58</td>\n",
       "      <td>386.1</td>\n",
       "      <td>0.14250</td>\n",
       "      <td>0.28390</td>\n",
       "      <td>0.2414</td>\n",
       "      <td>0.10520</td>\n",
       "      <td>0.2597</td>\n",
       "      <td>...</td>\n",
       "      <td>14.91</td>\n",
       "      <td>26.50</td>\n",
       "      <td>98.87</td>\n",
       "      <td>567.7</td>\n",
       "      <td>0.2098</td>\n",
       "      <td>0.8663</td>\n",
       "      <td>0.6869</td>\n",
       "      <td>0.2575</td>\n",
       "      <td>0.6638</td>\n",
       "      <td>0.17300</td>\n",
       "    </tr>\n",
       "    <tr>\n",
       "      <th>4</th>\n",
       "      <td>1</td>\n",
       "      <td>20.29</td>\n",
       "      <td>14.34</td>\n",
       "      <td>135.10</td>\n",
       "      <td>1297.0</td>\n",
       "      <td>0.10030</td>\n",
       "      <td>0.13280</td>\n",
       "      <td>0.1980</td>\n",
       "      <td>0.10430</td>\n",
       "      <td>0.1809</td>\n",
       "      <td>...</td>\n",
       "      <td>22.54</td>\n",
       "      <td>16.67</td>\n",
       "      <td>152.20</td>\n",
       "      <td>1575.0</td>\n",
       "      <td>0.1374</td>\n",
       "      <td>0.2050</td>\n",
       "      <td>0.4000</td>\n",
       "      <td>0.1625</td>\n",
       "      <td>0.2364</td>\n",
       "      <td>0.07678</td>\n",
       "    </tr>\n",
       "  </tbody>\n",
       "</table>\n",
       "<p>5 rows × 31 columns</p>\n",
       "</div>"
      ],
      "text/plain": [
       "   diagnosis  radius_mean  texture_mean  perimeter_mean  area_mean  \\\n",
       "0          1        17.99         10.38          122.80     1001.0   \n",
       "1          1        20.57         17.77          132.90     1326.0   \n",
       "2          1        19.69         21.25          130.00     1203.0   \n",
       "3          1        11.42         20.38           77.58      386.1   \n",
       "4          1        20.29         14.34          135.10     1297.0   \n",
       "\n",
       "   smoothness_mean  compactness_mean  concavity_mean  concave points_mean  \\\n",
       "0          0.11840           0.27760          0.3001              0.14710   \n",
       "1          0.08474           0.07864          0.0869              0.07017   \n",
       "2          0.10960           0.15990          0.1974              0.12790   \n",
       "3          0.14250           0.28390          0.2414              0.10520   \n",
       "4          0.10030           0.13280          0.1980              0.10430   \n",
       "\n",
       "   symmetry_mean  ...  radius_worst  texture_worst  perimeter_worst  \\\n",
       "0         0.2419  ...         25.38          17.33           184.60   \n",
       "1         0.1812  ...         24.99          23.41           158.80   \n",
       "2         0.2069  ...         23.57          25.53           152.50   \n",
       "3         0.2597  ...         14.91          26.50            98.87   \n",
       "4         0.1809  ...         22.54          16.67           152.20   \n",
       "\n",
       "   area_worst  smoothness_worst  compactness_worst  concavity_worst  \\\n",
       "0      2019.0            0.1622             0.6656           0.7119   \n",
       "1      1956.0            0.1238             0.1866           0.2416   \n",
       "2      1709.0            0.1444             0.4245           0.4504   \n",
       "3       567.7            0.2098             0.8663           0.6869   \n",
       "4      1575.0            0.1374             0.2050           0.4000   \n",
       "\n",
       "   concave points_worst  symmetry_worst  fractal_dimension_worst  \n",
       "0                0.2654          0.4601                  0.11890  \n",
       "1                0.1860          0.2750                  0.08902  \n",
       "2                0.2430          0.3613                  0.08758  \n",
       "3                0.2575          0.6638                  0.17300  \n",
       "4                0.1625          0.2364                  0.07678  \n",
       "\n",
       "[5 rows x 31 columns]"
      ]
     },
     "execution_count": 8,
     "metadata": {},
     "output_type": "execute_result"
    }
   ],
   "source": [
    "df.head()"
   ]
  },
  {
   "cell_type": "code",
   "execution_count": 9,
   "id": "00dc970a",
   "metadata": {},
   "outputs": [],
   "source": [
    "#get correlation matrix\n",
    "corr = df.corr()"
   ]
  },
  {
   "cell_type": "code",
   "execution_count": 13,
   "id": "de3e4d19",
   "metadata": {},
   "outputs": [],
   "source": [
    "# Get the absolute value of the correlation\n",
    "cor_target = abs(corr[\"diagnosis\"])\n",
    "\n",
    "# Select highly correlated features (thresold = 0.2)\n",
    "relevant_features = cor_target[cor_target>0.2]\n",
    "\n",
    "# Collect the names of the features\n",
    "names = [index for index, value in relevant_features.items()]\n",
    "\n",
    "# Drop the target variable from the results\n",
    "names.remove('diagnosis')"
   ]
  },
  {
   "cell_type": "code",
   "execution_count": 18,
   "id": "7a7cf679",
   "metadata": {},
   "outputs": [],
   "source": [
    "X = df[names]\n",
    "y = df['diagnosis']"
   ]
  },
  {
   "cell_type": "code",
   "execution_count": 20,
   "id": "98a9e52a",
   "metadata": {},
   "outputs": [
    {
     "data": {
      "text/plain": [
       "array([[-0.46649743, -0.13728933, -0.44421138, ..., -0.19435087,\n",
       "         0.17275669,  0.20372995],\n",
       "       [ 1.36536344,  0.49866473,  1.30551088, ...,  0.99177862,\n",
       "        -0.561211  , -1.00838949],\n",
       "       [ 0.38006578,  0.06921974,  0.40410139, ...,  0.57035018,\n",
       "        -0.10783139, -0.20629287],\n",
       "       ...,\n",
       "       [-0.73547237, -0.99852603, -0.74138839, ..., -0.27741059,\n",
       "        -0.3820785 , -0.32408328],\n",
       "       [ 0.02898271,  2.0334026 ,  0.0274851 , ..., -0.49027026,\n",
       "        -1.60905688, -0.33137507],\n",
       "       [ 1.87216885,  2.80077153,  1.80354992, ...,  0.7925579 ,\n",
       "        -0.05868885, -0.09467243]], shape=(114, 25))"
      ]
     },
     "execution_count": 20,
     "metadata": {},
     "output_type": "execute_result"
    }
   ],
   "source": [
    "X_train, X_test, y_train, y_test = train_test_split(X, y, test_size=0.2,random_state=42)\n",
    "\n",
    "scaler = StandardScaler()\n",
    "scaler.fit(X_train)\n",
    "\n",
    "scaler.transform(X_train)\n",
    "scaler.transform(X_test)"
   ]
  },
  {
   "cell_type": "code",
   "execution_count": 54,
   "id": "cf7b1c5c",
   "metadata": {},
   "outputs": [],
   "source": [
    "def train_and_evaluate_model(model, X_train, y_train, X_test, y_test):\n",
    "    model.fit(X_train,y_train)\n",
    "    predictions = model.predict(X_test)\n",
    "    \n",
    "    accuracy = accuracy_score(y_test,predictions)\n",
    "    f1=f1_score(y_test,predictions)\n",
    "    precision=precision_score(y_test,predictions)\n",
    "    recall = recall_score(y_test,predictions)\n",
    "    balanced_accuracy = balanced_accuracy_score(y_test,predictions)\n",
    "    cm=confusion_matrix(y_test, predictions)\n",
    "    \n",
    "    eval_df = pd.DataFrame([[accuracy,f1,precision,recall,balanced_accuracy,cm]], columns=['accuracy',\"f1_score\",\"precision\",\"recall\",\"balanced_accuracy\",\"confusion_matrix\"])\n",
    "    return eval_df"
   ]
  },
  {
   "cell_type": "code",
   "execution_count": 55,
   "id": "67228186",
   "metadata": {},
   "outputs": [
    {
     "name": "stderr",
     "output_type": "stream",
     "text": [
      "/Users/batinorene/MyProjects/ML_practices/RL/lib/python3.10/site-packages/sklearn/linear_model/_logistic.py:465: ConvergenceWarning: lbfgs failed to converge (status=1):\n",
      "STOP: TOTAL NO. OF ITERATIONS REACHED LIMIT.\n",
      "\n",
      "Increase the number of iterations (max_iter) or scale the data as shown in:\n",
      "    https://scikit-learn.org/stable/modules/preprocessing.html\n",
      "Please also refer to the documentation for alternative solver options:\n",
      "    https://scikit-learn.org/stable/modules/linear_model.html#logistic-regression\n",
      "  n_iter_i = _check_optimize_result(\n"
     ]
    }
   ],
   "source": [
    "models = {\n",
    "    'LogisticRegression':LogisticRegression(),\n",
    "    'KNN': KNeighborsClassifier(),\n",
    "    'RandomForest': RandomForestClassifier(),\n",
    "    'DecisionTree': DecisionTreeClassifier(),\n",
    "    'NaiveBayes':GaussianNB()\n",
    "}\n",
    "\n",
    "results_list=[]\n",
    "\n",
    "for name, model in models.items():\n",
    "    result = train_and_evaluate_model(model, X_train, y_train, X_test, y_test)\n",
    "    result.index = [name]\n",
    "    results_list.append(result)\n",
    "\n",
    "results_df = pd.concat(results_list)"
   ]
  },
  {
   "cell_type": "code",
   "execution_count": 56,
   "id": "804759d7",
   "metadata": {},
   "outputs": [
    {
     "name": "stdout",
     "output_type": "stream",
     "text": [
      "                    accuracy  f1_score  precision    recall  \\\n",
      "LogisticRegression  0.964912  0.952381   0.975610  0.930233   \n",
      "KNN                 0.956140  0.938272   1.000000  0.883721   \n",
      "RandomForest        0.964912  0.952381   0.975610  0.930233   \n",
      "DecisionTree        0.921053  0.896552   0.886364  0.906977   \n",
      "NaiveBayes          0.973684  0.963855   1.000000  0.930233   \n",
      "\n",
      "                    balanced_accuracy    confusion_matrix  \n",
      "LogisticRegression           0.958074  [[70, 1], [3, 40]]  \n",
      "KNN                          0.941860  [[71, 0], [5, 38]]  \n",
      "RandomForest                 0.958074  [[70, 1], [3, 40]]  \n",
      "DecisionTree                 0.918277  [[66, 5], [4, 39]]  \n",
      "NaiveBayes                   0.965116  [[71, 0], [3, 40]]  \n"
     ]
    }
   ],
   "source": [
    "print(results_df)"
   ]
  },
  {
   "cell_type": "code",
   "execution_count": 69,
   "id": "adfbb31a",
   "metadata": {},
   "outputs": [
    {
     "name": "stderr",
     "output_type": "stream",
     "text": [
      "/Users/batinorene/MyProjects/ML_practices/RL/lib/python3.10/site-packages/sklearn/linear_model/_logistic.py:465: ConvergenceWarning: lbfgs failed to converge (status=1):\n",
      "STOP: TOTAL NO. OF ITERATIONS REACHED LIMIT.\n",
      "\n",
      "Increase the number of iterations (max_iter) or scale the data as shown in:\n",
      "    https://scikit-learn.org/stable/modules/preprocessing.html\n",
      "Please also refer to the documentation for alternative solver options:\n",
      "    https://scikit-learn.org/stable/modules/linear_model.html#logistic-regression\n",
      "  n_iter_i = _check_optimize_result(\n"
     ]
    },
    {
     "data": {
      "image/png": "[encoded data removed]",
      "text/plain": [
       "<Figure size 800x600 with 1 Axes>"
      ]
     },
     "metadata": {},
     "output_type": "display_data"
    }
   ],
   "source": [
    "logreg = LogisticRegression()\n",
    "logreg.fit(X_train,y_train)\n",
    "\n",
    "#predict probabilities\n",
    "y_pred_probs = logreg.predict_proba(X_test)[:,1] #Get only probabilities, index 0 is classes\n",
    "\n",
    "#compute roc curve\n",
    "fpr, tpr, thresholds = roc_curve(y_test, y_pred_probs)\n",
    "auc_score = roc_auc_score(y_test, y_pred_probs)\n",
    "\n",
    "#plot\n",
    "plt.figure(figsize=(8, 6))\n",
    "plt.plot(fpr,tpr, label=f\"ROC Curve (AUC = {auc_score:.2f})\")\n",
    "plt.plot([0,1],[0,1],'k--',label=\"Random Guess\")\n",
    "plt.xlabel(\"False Positive Rate\")\n",
    "plt.ylabel(\"True Positive Rate\")\n",
    "plt.title(\"ROC Curve\")\n",
    "plt.grid(True)\n",
    "plt.show()"
   ]
  },
  {
   "cell_type": "code",
   "execution_count": 70,
   "id": "d70fcbf1",
   "metadata": {},
   "outputs": [
    {
     "name": "stderr",
     "output_type": "stream",
     "text": [
      "/Users/batinorene/MyProjects/ML_practices/RL/lib/python3.10/site-packages/sklearn/linear_model/_logistic.py:465: ConvergenceWarning: lbfgs failed to converge (status=1):\n",
      "STOP: TOTAL NO. OF ITERATIONS REACHED LIMIT.\n",
      "\n",
      "Increase the number of iterations (max_iter) or scale the data as shown in:\n",
      "    https://scikit-learn.org/stable/modules/preprocessing.html\n",
      "Please also refer to the documentation for alternative solver options:\n",
      "    https://scikit-learn.org/stable/modules/linear_model.html#logistic-regression\n",
      "  n_iter_i = _check_optimize_result(\n"
     ]
    },
    {
     "data": {
      "image/png": "[encoded data removed]",
      "text/plain": [
       "<Figure size 640x480 with 1 Axes>"
      ]
     },
     "metadata": {},
     "output_type": "display_data"
    }
   ],
   "source": [
    "models = {\n",
    "    'LogisticRegression':LogisticRegression(),\n",
    "    'KNN': KNeighborsClassifier(),\n",
    "    'RandomForest': RandomForestClassifier(),\n",
    "    'DecisionTree': DecisionTreeClassifier(),\n",
    "    'NaiveBayes':GaussianNB()\n",
    "}\n",
    "\n",
    "results_list=[]\n",
    "\n",
    "for name, model in models.items():\n",
    "    model.fit(X_train, y_train)\n",
    "    y_probs= model.predict_proba(X_test)[:,1]\n",
    "    fpr, tpr, _ = roc_curve(y_test, y_probs)\n",
    "    auc_score = roc_auc_score(y_test, y_probs)\n",
    "    plt.plot(fpr, tpr, label=f\"{name} (AUC = {auc_score:.2f})\")\n",
    "\n",
    "# Random baseline\n",
    "plt.plot([0, 1], [0, 1], 'k--', label=\"Random Guess\")\n",
    "\n",
    "plt.xlabel(\"False Positive Rate\")\n",
    "plt.ylabel(\"True Positive Rate\")\n",
    "plt.title(\"ROC Curve Comparison\")\n",
    "plt.legend(loc='lower right')\n",
    "plt.grid(True)\n",
    "plt.show()"
   ]
  },
  {
   "cell_type": "code",
   "execution_count": null,
   "id": "34e1d23d",
   "metadata": {},
   "outputs": [],
   "source": []
  }
 ],
 "metadata": {
  "kernelspec": {
   "display_name": "RL",
   "language": "python",
   "name": "python3"
  },
  "language_info": {
   "codemirror_mode": {
    "name": "ipython",
    "version": 3
   },
   "file_extension": ".py",
   "mimetype": "text/x-python",
   "name": "python",
   "nbconvert_exporter": "python",
   "pygments_lexer": "ipython3",
   "version": "3.10.16"
  }
 },
 "nbformat": 4,
 "nbformat_minor": 5
}
